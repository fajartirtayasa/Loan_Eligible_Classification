{
 "cells": [
  {
   "cell_type": "markdown",
   "id": "2e3c8828",
   "metadata": {},
   "source": [
    "# **[Loan Eligible Classification]**"
   ]
  },
  {
   "cell_type": "markdown",
   "id": "d07e95b2",
   "metadata": {},
   "source": [
    "### Proyek Machine Learning Terapan: Predictive Analytics\n",
    "by Fajar Tirtayasa"
   ]
  },
  {
   "cell_type": "markdown",
   "id": "ddbf4ec8",
   "metadata": {},
   "source": [
    "<img src='https://drive.google.com/uc?export=view&id=1Fp9fKdTmkhfDt2SAgeHNo0L0oiKHL78y'>"
   ]
  },
  {
   "cell_type": "markdown",
   "id": "8d6cb20a",
   "metadata": {},
   "source": [
    "## **[Business Understanding]**\n",
    "Perusahaan *Dream Housing Finance* menangani semua pinjaman rumah. Mereka memiliki riwayat pemberian pinjaman untuk semua daerah perkotaan, semi-perkotaan, dan pedesaan. Pelanggan pertama mengajukan pinjaman rumah setelah perusahaan itu memvalidasi kelayakan pelanggan untuk pinjaman.\n",
    "\n",
    "Perusahaan ingin mengotomatisasi proses kelayakan pinjaman (secara real-time) berdasarkan detail pelanggan yang diberikan saat mengisi formulir aplikasi online. Rincian tersebut adalah Jenis Kelamin, Status Perkawinan, Pendidikan, Jumlah Tanggungan, Penghasilan, Jumlah Pinjaman, Riwayat Kredit, dan lain-lain. Untuk mengotomatisasi proses ini, mereka telah memberikan masalah untuk mengidentifikasi segmen pelanggan, yang berhak atas jumlah pinjaman sehingga mereka dapat secara khusus menargetkan pelanggan tersebut."
   ]
  },
  {
   "cell_type": "markdown",
   "id": "21144782",
   "metadata": {},
   "source": [
    "## **[Data Understanding]**\n",
    "\n",
    "Source Dataset: https://www.kaggle.com/datasets/vikasukani/loan-eligible-dataset?select=loan-train.csv"
   ]
  },
  {
   "cell_type": "code",
   "execution_count": 64,
   "id": "988d0195",
   "metadata": {},
   "outputs": [],
   "source": [
    "import numpy as np\n",
    "import pandas as pd\n",
    "import matplotlib.pyplot as plt\n",
    "%matplotlib inline\n",
    "import seaborn as sns\n",
    "import warnings\n",
    "warnings.filterwarnings('ignore')"
   ]
  },
  {
   "cell_type": "code",
   "execution_count": 65,
   "id": "78712afe",
   "metadata": {
    "scrolled": false
   },
   "outputs": [
    {
     "data": {
      "text/html": [
       "<div>\n",
       "<style scoped>\n",
       "    .dataframe tbody tr th:only-of-type {\n",
       "        vertical-align: middle;\n",
       "    }\n",
       "\n",
       "    .dataframe tbody tr th {\n",
       "        vertical-align: top;\n",
       "    }\n",
       "\n",
       "    .dataframe thead th {\n",
       "        text-align: right;\n",
       "    }\n",
       "</style>\n",
       "<table border=\"1\" class=\"dataframe\">\n",
       "  <thead>\n",
       "    <tr style=\"text-align: right;\">\n",
       "      <th></th>\n",
       "      <th>Loan_ID</th>\n",
       "      <th>Gender</th>\n",
       "      <th>Married</th>\n",
       "      <th>Dependents</th>\n",
       "      <th>Education</th>\n",
       "      <th>Self_Employed</th>\n",
       "      <th>ApplicantIncome</th>\n",
       "      <th>CoapplicantIncome</th>\n",
       "      <th>LoanAmount</th>\n",
       "      <th>Loan_Amount_Term</th>\n",
       "      <th>Credit_History</th>\n",
       "      <th>Property_Area</th>\n",
       "      <th>Loan_Status</th>\n",
       "    </tr>\n",
       "  </thead>\n",
       "  <tbody>\n",
       "    <tr>\n",
       "      <th>0</th>\n",
       "      <td>LP001002</td>\n",
       "      <td>Male</td>\n",
       "      <td>No</td>\n",
       "      <td>0</td>\n",
       "      <td>Graduate</td>\n",
       "      <td>No</td>\n",
       "      <td>5849</td>\n",
       "      <td>0.00</td>\n",
       "      <td>NaN</td>\n",
       "      <td>360.00</td>\n",
       "      <td>1.00</td>\n",
       "      <td>Urban</td>\n",
       "      <td>Y</td>\n",
       "    </tr>\n",
       "    <tr>\n",
       "      <th>1</th>\n",
       "      <td>LP001003</td>\n",
       "      <td>Male</td>\n",
       "      <td>Yes</td>\n",
       "      <td>1</td>\n",
       "      <td>Graduate</td>\n",
       "      <td>No</td>\n",
       "      <td>4583</td>\n",
       "      <td>1508.00</td>\n",
       "      <td>128.00</td>\n",
       "      <td>360.00</td>\n",
       "      <td>1.00</td>\n",
       "      <td>Rural</td>\n",
       "      <td>N</td>\n",
       "    </tr>\n",
       "    <tr>\n",
       "      <th>2</th>\n",
       "      <td>LP001005</td>\n",
       "      <td>Male</td>\n",
       "      <td>Yes</td>\n",
       "      <td>0</td>\n",
       "      <td>Graduate</td>\n",
       "      <td>Yes</td>\n",
       "      <td>3000</td>\n",
       "      <td>0.00</td>\n",
       "      <td>66.00</td>\n",
       "      <td>360.00</td>\n",
       "      <td>1.00</td>\n",
       "      <td>Urban</td>\n",
       "      <td>Y</td>\n",
       "    </tr>\n",
       "    <tr>\n",
       "      <th>3</th>\n",
       "      <td>LP001006</td>\n",
       "      <td>Male</td>\n",
       "      <td>Yes</td>\n",
       "      <td>0</td>\n",
       "      <td>Not Graduate</td>\n",
       "      <td>No</td>\n",
       "      <td>2583</td>\n",
       "      <td>2358.00</td>\n",
       "      <td>120.00</td>\n",
       "      <td>360.00</td>\n",
       "      <td>1.00</td>\n",
       "      <td>Urban</td>\n",
       "      <td>Y</td>\n",
       "    </tr>\n",
       "    <tr>\n",
       "      <th>4</th>\n",
       "      <td>LP001008</td>\n",
       "      <td>Male</td>\n",
       "      <td>No</td>\n",
       "      <td>0</td>\n",
       "      <td>Graduate</td>\n",
       "      <td>No</td>\n",
       "      <td>6000</td>\n",
       "      <td>0.00</td>\n",
       "      <td>141.00</td>\n",
       "      <td>360.00</td>\n",
       "      <td>1.00</td>\n",
       "      <td>Urban</td>\n",
       "      <td>Y</td>\n",
       "    </tr>\n",
       "    <tr>\n",
       "      <th>...</th>\n",
       "      <td>...</td>\n",
       "      <td>...</td>\n",
       "      <td>...</td>\n",
       "      <td>...</td>\n",
       "      <td>...</td>\n",
       "      <td>...</td>\n",
       "      <td>...</td>\n",
       "      <td>...</td>\n",
       "      <td>...</td>\n",
       "      <td>...</td>\n",
       "      <td>...</td>\n",
       "      <td>...</td>\n",
       "      <td>...</td>\n",
       "    </tr>\n",
       "    <tr>\n",
       "      <th>609</th>\n",
       "      <td>LP002978</td>\n",
       "      <td>Female</td>\n",
       "      <td>No</td>\n",
       "      <td>0</td>\n",
       "      <td>Graduate</td>\n",
       "      <td>No</td>\n",
       "      <td>2900</td>\n",
       "      <td>0.00</td>\n",
       "      <td>71.00</td>\n",
       "      <td>360.00</td>\n",
       "      <td>1.00</td>\n",
       "      <td>Rural</td>\n",
       "      <td>Y</td>\n",
       "    </tr>\n",
       "    <tr>\n",
       "      <th>610</th>\n",
       "      <td>LP002979</td>\n",
       "      <td>Male</td>\n",
       "      <td>Yes</td>\n",
       "      <td>3+</td>\n",
       "      <td>Graduate</td>\n",
       "      <td>No</td>\n",
       "      <td>4106</td>\n",
       "      <td>0.00</td>\n",
       "      <td>40.00</td>\n",
       "      <td>180.00</td>\n",
       "      <td>1.00</td>\n",
       "      <td>Rural</td>\n",
       "      <td>Y</td>\n",
       "    </tr>\n",
       "    <tr>\n",
       "      <th>611</th>\n",
       "      <td>LP002983</td>\n",
       "      <td>Male</td>\n",
       "      <td>Yes</td>\n",
       "      <td>1</td>\n",
       "      <td>Graduate</td>\n",
       "      <td>No</td>\n",
       "      <td>8072</td>\n",
       "      <td>240.00</td>\n",
       "      <td>253.00</td>\n",
       "      <td>360.00</td>\n",
       "      <td>1.00</td>\n",
       "      <td>Urban</td>\n",
       "      <td>Y</td>\n",
       "    </tr>\n",
       "    <tr>\n",
       "      <th>612</th>\n",
       "      <td>LP002984</td>\n",
       "      <td>Male</td>\n",
       "      <td>Yes</td>\n",
       "      <td>2</td>\n",
       "      <td>Graduate</td>\n",
       "      <td>No</td>\n",
       "      <td>7583</td>\n",
       "      <td>0.00</td>\n",
       "      <td>187.00</td>\n",
       "      <td>360.00</td>\n",
       "      <td>1.00</td>\n",
       "      <td>Urban</td>\n",
       "      <td>Y</td>\n",
       "    </tr>\n",
       "    <tr>\n",
       "      <th>613</th>\n",
       "      <td>LP002990</td>\n",
       "      <td>Female</td>\n",
       "      <td>No</td>\n",
       "      <td>0</td>\n",
       "      <td>Graduate</td>\n",
       "      <td>Yes</td>\n",
       "      <td>4583</td>\n",
       "      <td>0.00</td>\n",
       "      <td>133.00</td>\n",
       "      <td>360.00</td>\n",
       "      <td>0.00</td>\n",
       "      <td>Semiurban</td>\n",
       "      <td>N</td>\n",
       "    </tr>\n",
       "  </tbody>\n",
       "</table>\n",
       "<p>614 rows × 13 columns</p>\n",
       "</div>"
      ],
      "text/plain": [
       "      Loan_ID  Gender Married Dependents     Education Self_Employed  \\\n",
       "0    LP001002    Male      No          0      Graduate            No   \n",
       "1    LP001003    Male     Yes          1      Graduate            No   \n",
       "2    LP001005    Male     Yes          0      Graduate           Yes   \n",
       "3    LP001006    Male     Yes          0  Not Graduate            No   \n",
       "4    LP001008    Male      No          0      Graduate            No   \n",
       "..        ...     ...     ...        ...           ...           ...   \n",
       "609  LP002978  Female      No          0      Graduate            No   \n",
       "610  LP002979    Male     Yes         3+      Graduate            No   \n",
       "611  LP002983    Male     Yes          1      Graduate            No   \n",
       "612  LP002984    Male     Yes          2      Graduate            No   \n",
       "613  LP002990  Female      No          0      Graduate           Yes   \n",
       "\n",
       "     ApplicantIncome  CoapplicantIncome  LoanAmount  Loan_Amount_Term  \\\n",
       "0               5849               0.00         NaN            360.00   \n",
       "1               4583            1508.00      128.00            360.00   \n",
       "2               3000               0.00       66.00            360.00   \n",
       "3               2583            2358.00      120.00            360.00   \n",
       "4               6000               0.00      141.00            360.00   \n",
       "..               ...                ...         ...               ...   \n",
       "609             2900               0.00       71.00            360.00   \n",
       "610             4106               0.00       40.00            180.00   \n",
       "611             8072             240.00      253.00            360.00   \n",
       "612             7583               0.00      187.00            360.00   \n",
       "613             4583               0.00      133.00            360.00   \n",
       "\n",
       "     Credit_History Property_Area Loan_Status  \n",
       "0              1.00         Urban           Y  \n",
       "1              1.00         Rural           N  \n",
       "2              1.00         Urban           Y  \n",
       "3              1.00         Urban           Y  \n",
       "4              1.00         Urban           Y  \n",
       "..              ...           ...         ...  \n",
       "609            1.00         Rural           Y  \n",
       "610            1.00         Rural           Y  \n",
       "611            1.00         Urban           Y  \n",
       "612            1.00         Urban           Y  \n",
       "613            0.00     Semiurban           N  \n",
       "\n",
       "[614 rows x 13 columns]"
      ]
     },
     "execution_count": 65,
     "metadata": {},
     "output_type": "execute_result"
    }
   ],
   "source": [
    "#loading data\n",
    "df = pd.read_csv('/Data Science/Dicoding/Loan Eligible Classification/loan-train.csv')\n",
    "df"
   ]
  },
  {
   "cell_type": "markdown",
   "id": "74ae00ec",
   "metadata": {},
   "source": [
    "Informasi mengenai kolom dataframe:\n",
    "- **Loan_ID**: ID unik pinjaman.\n",
    "- **Gender**: Male/Female.\n",
    "- **Married**: Status pernikahan peminjam (Yes/No).\n",
    "- **Dependents**: Banyaknya tanggungan peminjam.\n",
    "- **Education**: Status pendidikan peminjam (Graduate/Under Graduate).\n",
    "- **Self_Employed**: Status wiraswasta (Yes/No).\n",
    "- **ApplicantIncome**: Pendapatan peminjam.\n",
    "- **CoapplicantIncome**: Pendapatan pendamping peminjam.\n",
    "- **LoanAmount**: Banyaknya pinjaman (dalam ribuan).\n",
    "- **Loan_Amount_Term**: Jangka waktu pinjaman (dalam bulan).\n",
    "- **Credit_History**: Riwayat credit memenuhi pedoman {1:'Good', 0:'Bad'}.\n",
    "- **Property_Area**: Urban/Semi-Urban/Rural.\n",
    "- **Loan_Status**: Status penerimaan pinjaman (Yes/No)."
   ]
  },
  {
   "cell_type": "markdown",
   "id": "aef1eb37",
   "metadata": {},
   "source": [
    "### Exploratory Data Analysis: Descriptive Statistic"
   ]
  },
  {
   "cell_type": "code",
   "execution_count": 66,
   "id": "4806249e",
   "metadata": {},
   "outputs": [
    {
     "data": {
      "text/plain": [
       "(614, 13)"
      ]
     },
     "execution_count": 66,
     "metadata": {},
     "output_type": "execute_result"
    }
   ],
   "source": [
    "#melihat banyaknya baris dan kolom pada dataframe\n",
    "df.shape"
   ]
  },
  {
   "cell_type": "code",
   "execution_count": 67,
   "id": "d8b012bb",
   "metadata": {},
   "outputs": [
    {
     "data": {
      "text/html": [
       "<div>\n",
       "<style scoped>\n",
       "    .dataframe tbody tr th:only-of-type {\n",
       "        vertical-align: middle;\n",
       "    }\n",
       "\n",
       "    .dataframe tbody tr th {\n",
       "        vertical-align: top;\n",
       "    }\n",
       "\n",
       "    .dataframe thead th {\n",
       "        text-align: right;\n",
       "    }\n",
       "</style>\n",
       "<table border=\"1\" class=\"dataframe\">\n",
       "  <thead>\n",
       "    <tr style=\"text-align: right;\">\n",
       "      <th></th>\n",
       "      <th>Loan_ID</th>\n",
       "      <th>Gender</th>\n",
       "      <th>Married</th>\n",
       "      <th>Dependents</th>\n",
       "      <th>Education</th>\n",
       "      <th>Self_Employed</th>\n",
       "      <th>ApplicantIncome</th>\n",
       "      <th>CoapplicantIncome</th>\n",
       "      <th>LoanAmount</th>\n",
       "      <th>Loan_Amount_Term</th>\n",
       "      <th>Credit_History</th>\n",
       "      <th>Property_Area</th>\n",
       "      <th>Loan_Status</th>\n",
       "    </tr>\n",
       "  </thead>\n",
       "  <tbody>\n",
       "    <tr>\n",
       "      <th>553</th>\n",
       "      <td>LP002788</td>\n",
       "      <td>Male</td>\n",
       "      <td>Yes</td>\n",
       "      <td>0</td>\n",
       "      <td>Not Graduate</td>\n",
       "      <td>No</td>\n",
       "      <td>2454</td>\n",
       "      <td>2333.00</td>\n",
       "      <td>181.00</td>\n",
       "      <td>360.00</td>\n",
       "      <td>0.00</td>\n",
       "      <td>Urban</td>\n",
       "      <td>N</td>\n",
       "    </tr>\n",
       "    <tr>\n",
       "      <th>251</th>\n",
       "      <td>LP001836</td>\n",
       "      <td>Female</td>\n",
       "      <td>No</td>\n",
       "      <td>2</td>\n",
       "      <td>Graduate</td>\n",
       "      <td>No</td>\n",
       "      <td>3427</td>\n",
       "      <td>0.00</td>\n",
       "      <td>138.00</td>\n",
       "      <td>360.00</td>\n",
       "      <td>1.00</td>\n",
       "      <td>Urban</td>\n",
       "      <td>N</td>\n",
       "    </tr>\n",
       "    <tr>\n",
       "      <th>436</th>\n",
       "      <td>LP002398</td>\n",
       "      <td>Male</td>\n",
       "      <td>No</td>\n",
       "      <td>0</td>\n",
       "      <td>Graduate</td>\n",
       "      <td>No</td>\n",
       "      <td>1926</td>\n",
       "      <td>1851.00</td>\n",
       "      <td>50.00</td>\n",
       "      <td>360.00</td>\n",
       "      <td>1.00</td>\n",
       "      <td>Semiurban</td>\n",
       "      <td>Y</td>\n",
       "    </tr>\n",
       "    <tr>\n",
       "      <th>334</th>\n",
       "      <td>LP002103</td>\n",
       "      <td>NaN</td>\n",
       "      <td>Yes</td>\n",
       "      <td>1</td>\n",
       "      <td>Graduate</td>\n",
       "      <td>Yes</td>\n",
       "      <td>9833</td>\n",
       "      <td>1833.00</td>\n",
       "      <td>182.00</td>\n",
       "      <td>180.00</td>\n",
       "      <td>1.00</td>\n",
       "      <td>Urban</td>\n",
       "      <td>Y</td>\n",
       "    </tr>\n",
       "    <tr>\n",
       "      <th>466</th>\n",
       "      <td>LP002500</td>\n",
       "      <td>Male</td>\n",
       "      <td>Yes</td>\n",
       "      <td>3+</td>\n",
       "      <td>Not Graduate</td>\n",
       "      <td>No</td>\n",
       "      <td>2947</td>\n",
       "      <td>1664.00</td>\n",
       "      <td>70.00</td>\n",
       "      <td>180.00</td>\n",
       "      <td>0.00</td>\n",
       "      <td>Urban</td>\n",
       "      <td>N</td>\n",
       "    </tr>\n",
       "  </tbody>\n",
       "</table>\n",
       "</div>"
      ],
      "text/plain": [
       "      Loan_ID  Gender Married Dependents     Education Self_Employed  \\\n",
       "553  LP002788    Male     Yes          0  Not Graduate            No   \n",
       "251  LP001836  Female      No          2      Graduate            No   \n",
       "436  LP002398    Male      No          0      Graduate            No   \n",
       "334  LP002103     NaN     Yes          1      Graduate           Yes   \n",
       "466  LP002500    Male     Yes         3+  Not Graduate            No   \n",
       "\n",
       "     ApplicantIncome  CoapplicantIncome  LoanAmount  Loan_Amount_Term  \\\n",
       "553             2454            2333.00      181.00            360.00   \n",
       "251             3427               0.00      138.00            360.00   \n",
       "436             1926            1851.00       50.00            360.00   \n",
       "334             9833            1833.00      182.00            180.00   \n",
       "466             2947            1664.00       70.00            180.00   \n",
       "\n",
       "     Credit_History Property_Area Loan_Status  \n",
       "553            0.00         Urban           N  \n",
       "251            1.00         Urban           N  \n",
       "436            1.00     Semiurban           Y  \n",
       "334            1.00         Urban           Y  \n",
       "466            0.00         Urban           N  "
      ]
     },
     "execution_count": 67,
     "metadata": {},
     "output_type": "execute_result"
    }
   ],
   "source": [
    "#mengecek beberapa sampel data\n",
    "df.sample(5)"
   ]
  },
  {
   "cell_type": "code",
   "execution_count": 68,
   "id": "d0ce64ba",
   "metadata": {
    "scrolled": false
   },
   "outputs": [
    {
     "name": "stdout",
     "output_type": "stream",
     "text": [
      "<class 'pandas.core.frame.DataFrame'>\n",
      "RangeIndex: 614 entries, 0 to 613\n",
      "Data columns (total 13 columns):\n",
      " #   Column             Non-Null Count  Dtype  \n",
      "---  ------             --------------  -----  \n",
      " 0   Loan_ID            614 non-null    object \n",
      " 1   Gender             601 non-null    object \n",
      " 2   Married            611 non-null    object \n",
      " 3   Dependents         599 non-null    object \n",
      " 4   Education          614 non-null    object \n",
      " 5   Self_Employed      582 non-null    object \n",
      " 6   ApplicantIncome    614 non-null    int64  \n",
      " 7   CoapplicantIncome  614 non-null    float64\n",
      " 8   LoanAmount         592 non-null    float64\n",
      " 9   Loan_Amount_Term   600 non-null    float64\n",
      " 10  Credit_History     564 non-null    float64\n",
      " 11  Property_Area      614 non-null    object \n",
      " 12  Loan_Status        614 non-null    object \n",
      "dtypes: float64(4), int64(1), object(8)\n",
      "memory usage: 62.5+ KB\n"
     ]
    }
   ],
   "source": [
    "#mengecek banyaknya Non-Null value dan tipe data di setiap kolom\n",
    "df.info()"
   ]
  },
  {
   "cell_type": "code",
   "execution_count": 69,
   "id": "20d2f8dc",
   "metadata": {
    "scrolled": false
   },
   "outputs": [
    {
     "data": {
      "text/plain": [
       "Loan_ID               0\n",
       "Gender               13\n",
       "Married               3\n",
       "Dependents           15\n",
       "Education             0\n",
       "Self_Employed        32\n",
       "ApplicantIncome       0\n",
       "CoapplicantIncome     0\n",
       "LoanAmount           22\n",
       "Loan_Amount_Term     14\n",
       "Credit_History       50\n",
       "Property_Area         0\n",
       "Loan_Status           0\n",
       "dtype: int64"
      ]
     },
     "execution_count": 69,
     "metadata": {},
     "output_type": "execute_result"
    }
   ],
   "source": [
    "#melihat banyaknya Null value di setiap kolom\n",
    "df.isna().sum()"
   ]
  },
  {
   "cell_type": "code",
   "execution_count": 70,
   "id": "34eb54c0",
   "metadata": {},
   "outputs": [
    {
     "data": {
      "text/html": [
       "<div>\n",
       "<style scoped>\n",
       "    .dataframe tbody tr th:only-of-type {\n",
       "        vertical-align: middle;\n",
       "    }\n",
       "\n",
       "    .dataframe tbody tr th {\n",
       "        vertical-align: top;\n",
       "    }\n",
       "\n",
       "    .dataframe thead th {\n",
       "        text-align: right;\n",
       "    }\n",
       "</style>\n",
       "<table border=\"1\" class=\"dataframe\">\n",
       "  <thead>\n",
       "    <tr style=\"text-align: right;\">\n",
       "      <th></th>\n",
       "      <th>Loan_ID</th>\n",
       "      <th>Gender</th>\n",
       "      <th>Married</th>\n",
       "      <th>Dependents</th>\n",
       "      <th>Education</th>\n",
       "      <th>Self_Employed</th>\n",
       "      <th>ApplicantIncome</th>\n",
       "      <th>CoapplicantIncome</th>\n",
       "      <th>LoanAmount</th>\n",
       "      <th>Loan_Amount_Term</th>\n",
       "      <th>Credit_History</th>\n",
       "      <th>Property_Area</th>\n",
       "      <th>Loan_Status</th>\n",
       "    </tr>\n",
       "  </thead>\n",
       "  <tbody>\n",
       "  </tbody>\n",
       "</table>\n",
       "</div>"
      ],
      "text/plain": [
       "Empty DataFrame\n",
       "Columns: [Loan_ID, Gender, Married, Dependents, Education, Self_Employed, ApplicantIncome, CoapplicantIncome, LoanAmount, Loan_Amount_Term, Credit_History, Property_Area, Loan_Status]\n",
       "Index: []"
      ]
     },
     "execution_count": 70,
     "metadata": {},
     "output_type": "execute_result"
    }
   ],
   "source": [
    "#mengecek ada tidaknya data yang duplikat\n",
    "df[df.duplicated()]"
   ]
  },
  {
   "cell_type": "code",
   "execution_count": 71,
   "id": "25670f9b",
   "metadata": {},
   "outputs": [
    {
     "name": "stdout",
     "output_type": "stream",
     "text": [
      "Unique kolom Gender:  ['Male' 'Female' nan]\n",
      "Unique kolom Married:  ['No' 'Yes' nan]\n",
      "Unique kolom Dependents:  ['0' '1' '2' '3+' nan]\n",
      "Unique kolom Education:  ['Graduate' 'Not Graduate']\n",
      "Unique kolom Self_Employed:  ['No' 'Yes' nan]\n",
      "Unique kolom Loan_Amount_Term:  [360. 120. 240.  nan 180.  60. 300. 480.  36.  84.  12.]\n",
      "Unique kolom Property_Area:  ['Urban' 'Rural' 'Semiurban']\n",
      "Unique kolom Loan_Status:  ['Y' 'N']\n"
     ]
    }
   ],
   "source": [
    "#mengecek unique value untuk beberapa kolom dengan representasi tipe data kategorikal\n",
    "cat_col = ['Gender', 'Married', 'Dependents', 'Education', 'Self_Employed',\n",
    "           'Loan_Amount_Term', 'Property_Area', 'Loan_Status']\n",
    "for col in cat_col:\n",
    "    print(f'Unique kolom {col}: ', df[col].unique())"
   ]
  },
  {
   "cell_type": "code",
   "execution_count": 72,
   "id": "c695908e",
   "metadata": {
    "scrolled": true
   },
   "outputs": [
    {
     "data": {
      "text/html": [
       "<div>\n",
       "<style scoped>\n",
       "    .dataframe tbody tr th:only-of-type {\n",
       "        vertical-align: middle;\n",
       "    }\n",
       "\n",
       "    .dataframe tbody tr th {\n",
       "        vertical-align: top;\n",
       "    }\n",
       "\n",
       "    .dataframe thead th {\n",
       "        text-align: right;\n",
       "    }\n",
       "</style>\n",
       "<table border=\"1\" class=\"dataframe\">\n",
       "  <thead>\n",
       "    <tr style=\"text-align: right;\">\n",
       "      <th></th>\n",
       "      <th>ApplicantIncome</th>\n",
       "      <th>CoapplicantIncome</th>\n",
       "      <th>LoanAmount</th>\n",
       "      <th>Loan_Amount_Term</th>\n",
       "      <th>Credit_History</th>\n",
       "    </tr>\n",
       "  </thead>\n",
       "  <tbody>\n",
       "    <tr>\n",
       "      <th>count</th>\n",
       "      <td>614.00</td>\n",
       "      <td>614.00</td>\n",
       "      <td>592.00</td>\n",
       "      <td>600.00</td>\n",
       "      <td>564.00</td>\n",
       "    </tr>\n",
       "    <tr>\n",
       "      <th>mean</th>\n",
       "      <td>5403.46</td>\n",
       "      <td>1621.25</td>\n",
       "      <td>146.41</td>\n",
       "      <td>342.00</td>\n",
       "      <td>0.84</td>\n",
       "    </tr>\n",
       "    <tr>\n",
       "      <th>std</th>\n",
       "      <td>6109.04</td>\n",
       "      <td>2926.25</td>\n",
       "      <td>85.59</td>\n",
       "      <td>65.12</td>\n",
       "      <td>0.36</td>\n",
       "    </tr>\n",
       "    <tr>\n",
       "      <th>min</th>\n",
       "      <td>150.00</td>\n",
       "      <td>0.00</td>\n",
       "      <td>9.00</td>\n",
       "      <td>12.00</td>\n",
       "      <td>0.00</td>\n",
       "    </tr>\n",
       "    <tr>\n",
       "      <th>25%</th>\n",
       "      <td>2877.50</td>\n",
       "      <td>0.00</td>\n",
       "      <td>100.00</td>\n",
       "      <td>360.00</td>\n",
       "      <td>1.00</td>\n",
       "    </tr>\n",
       "    <tr>\n",
       "      <th>50%</th>\n",
       "      <td>3812.50</td>\n",
       "      <td>1188.50</td>\n",
       "      <td>128.00</td>\n",
       "      <td>360.00</td>\n",
       "      <td>1.00</td>\n",
       "    </tr>\n",
       "    <tr>\n",
       "      <th>75%</th>\n",
       "      <td>5795.00</td>\n",
       "      <td>2297.25</td>\n",
       "      <td>168.00</td>\n",
       "      <td>360.00</td>\n",
       "      <td>1.00</td>\n",
       "    </tr>\n",
       "    <tr>\n",
       "      <th>max</th>\n",
       "      <td>81000.00</td>\n",
       "      <td>41667.00</td>\n",
       "      <td>700.00</td>\n",
       "      <td>480.00</td>\n",
       "      <td>1.00</td>\n",
       "    </tr>\n",
       "  </tbody>\n",
       "</table>\n",
       "</div>"
      ],
      "text/plain": [
       "       ApplicantIncome  CoapplicantIncome  LoanAmount  Loan_Amount_Term  \\\n",
       "count           614.00             614.00      592.00            600.00   \n",
       "mean           5403.46            1621.25      146.41            342.00   \n",
       "std            6109.04            2926.25       85.59             65.12   \n",
       "min             150.00               0.00        9.00             12.00   \n",
       "25%            2877.50               0.00      100.00            360.00   \n",
       "50%            3812.50            1188.50      128.00            360.00   \n",
       "75%            5795.00            2297.25      168.00            360.00   \n",
       "max           81000.00           41667.00      700.00            480.00   \n",
       "\n",
       "       Credit_History  \n",
       "count          564.00  \n",
       "mean             0.84  \n",
       "std              0.36  \n",
       "min              0.00  \n",
       "25%              1.00  \n",
       "50%              1.00  \n",
       "75%              1.00  \n",
       "max              1.00  "
      ]
     },
     "execution_count": 72,
     "metadata": {},
     "output_type": "execute_result"
    }
   ],
   "source": [
    "#melihat statistik deskriptif (sebelum data preparation) untuk kolom dengan tipe data numerik\n",
    "df.describe()"
   ]
  },
  {
   "cell_type": "code",
   "execution_count": 73,
   "id": "6744ced7",
   "metadata": {},
   "outputs": [
    {
     "data": {
      "text/html": [
       "<div>\n",
       "<style scoped>\n",
       "    .dataframe tbody tr th:only-of-type {\n",
       "        vertical-align: middle;\n",
       "    }\n",
       "\n",
       "    .dataframe tbody tr th {\n",
       "        vertical-align: top;\n",
       "    }\n",
       "\n",
       "    .dataframe thead th {\n",
       "        text-align: right;\n",
       "    }\n",
       "</style>\n",
       "<table border=\"1\" class=\"dataframe\">\n",
       "  <thead>\n",
       "    <tr style=\"text-align: right;\">\n",
       "      <th></th>\n",
       "      <th>Loan_ID</th>\n",
       "      <th>Gender</th>\n",
       "      <th>Married</th>\n",
       "      <th>Dependents</th>\n",
       "      <th>Education</th>\n",
       "      <th>Self_Employed</th>\n",
       "      <th>Property_Area</th>\n",
       "      <th>Loan_Status</th>\n",
       "    </tr>\n",
       "  </thead>\n",
       "  <tbody>\n",
       "    <tr>\n",
       "      <th>count</th>\n",
       "      <td>614</td>\n",
       "      <td>601</td>\n",
       "      <td>611</td>\n",
       "      <td>599</td>\n",
       "      <td>614</td>\n",
       "      <td>582</td>\n",
       "      <td>614</td>\n",
       "      <td>614</td>\n",
       "    </tr>\n",
       "    <tr>\n",
       "      <th>unique</th>\n",
       "      <td>614</td>\n",
       "      <td>2</td>\n",
       "      <td>2</td>\n",
       "      <td>4</td>\n",
       "      <td>2</td>\n",
       "      <td>2</td>\n",
       "      <td>3</td>\n",
       "      <td>2</td>\n",
       "    </tr>\n",
       "    <tr>\n",
       "      <th>top</th>\n",
       "      <td>LP001002</td>\n",
       "      <td>Male</td>\n",
       "      <td>Yes</td>\n",
       "      <td>0</td>\n",
       "      <td>Graduate</td>\n",
       "      <td>No</td>\n",
       "      <td>Semiurban</td>\n",
       "      <td>Y</td>\n",
       "    </tr>\n",
       "    <tr>\n",
       "      <th>freq</th>\n",
       "      <td>1</td>\n",
       "      <td>489</td>\n",
       "      <td>398</td>\n",
       "      <td>345</td>\n",
       "      <td>480</td>\n",
       "      <td>500</td>\n",
       "      <td>233</td>\n",
       "      <td>422</td>\n",
       "    </tr>\n",
       "  </tbody>\n",
       "</table>\n",
       "</div>"
      ],
      "text/plain": [
       "         Loan_ID Gender Married Dependents Education Self_Employed  \\\n",
       "count        614    601     611        599       614           582   \n",
       "unique       614      2       2          4         2             2   \n",
       "top     LP001002   Male     Yes          0  Graduate            No   \n",
       "freq           1    489     398        345       480           500   \n",
       "\n",
       "       Property_Area Loan_Status  \n",
       "count            614         614  \n",
       "unique             3           2  \n",
       "top        Semiurban           Y  \n",
       "freq             233         422  "
      ]
     },
     "execution_count": 73,
     "metadata": {},
     "output_type": "execute_result"
    }
   ],
   "source": [
    "#melihat statistik deskriptif (sebelum data preparation) untuk kolom dengan tipe data object\n",
    "df.describe(include='object')"
   ]
  },
  {
   "cell_type": "markdown",
   "id": "ff1bf448",
   "metadata": {},
   "source": [
    "Beberapa informasi yang dapat diperoleh dari tahapan Descriptive Statistic di atas adalah:\n",
    "- Dataset ini terdiri atas 614 baris dan 13 kolom (5 kolom dengan tipe data numerik, dan 8 kolom dengan tipe data object).\n",
    "- Terdapat beberapa kolom yang memiliki *missing value*, yakni kolom 'Gender', 'Married', 'Dependents', 'Self_Employed', 'LoanAmount', dan 'Credit_History'. Dengan demikian, nantinya perlu adanya proses *handling missing value*.\n",
    "- Tidak terdapat data yang duplikat pada dataset.\n",
    "- Terdapat beberapa kolom yang baiknya dilakukan proses perubahan tipe data menjadi *integer*, yakni untuk kolom 'CoapplicantIncome', 'LoanAmount', 'Loan_Amount_Term', dan 'Credit_History'.\n",
    "- Sebelum dilakukan pemodelan, kolom 'Loan_ID' dapat di-drop karena tidak dibutuhkan."
   ]
  },
  {
   "cell_type": "markdown",
   "id": "8b86663f",
   "metadata": {},
   "source": [
    "### Exploratory Data Analysis: Univariate Analysis"
   ]
  },
  {
   "cell_type": "markdown",
   "id": "a6fc915d",
   "metadata": {},
   "source": [
    "#### **Categorical Data**"
   ]
  },
  {
   "cell_type": "code",
   "execution_count": 74,
   "id": "abf05871",
   "metadata": {
    "scrolled": true
   },
   "outputs": [],
   "source": [
    "#membuat salinan dataframe untuk memudahkan Univariate Analysis\n",
    "df2 = df.copy()\n",
    "df2 = df2.fillna('Missing')"
   ]
  },
  {
   "cell_type": "code",
   "execution_count": 75,
   "id": "4963c312",
   "metadata": {},
   "outputs": [
    {
     "name": "stdout",
     "output_type": "stream",
     "text": [
      "         Banyak sampel  Persentase\n",
      "Male               489       79.64\n",
      "Female             112       18.24\n",
      "Missing             13        2.12\n"
     ]
    },
    {
     "data": {
      "image/png": "[encoded data removed]",
      "text/plain": [
       "<Figure size 720x360 with 1 Axes>"
      ]
     },
     "metadata": {},
     "output_type": "display_data"
    }
   ],
   "source": [
    "#membuat dataframe yang memuat banyak sampel dan perentase tiap kategori kolom 'Gender'\n",
    "count = df2['Gender'].value_counts()\n",
    "percentage = 100*df2['Gender'].value_counts(normalize=True)\n",
    "df2_col = pd.DataFrame({'Banyak sampel':count, 'Persentase':round(percentage,2)})\n",
    "print(df2_col)\n",
    "\n",
    "#membuat count plot untuk kolom 'Gender'\n",
    "sns.set_style('whitegrid')\n",
    "sns.countplot(x='Gender', data=df2, palette='ocean')\n",
    "for i, v in enumerate(count):\n",
    "    plt.text(i-0.05, v+10, str(v), fontweight='bold')\n",
    "plt.ylim(ymax=550)\n",
    "plt.title('Count Plot untuk Kolom Gender', pad=20, fontsize=20)\n",
    "plt.gcf().set_size_inches(10,5)\n",
    "plt.show()"
   ]
  },
  {
   "cell_type": "code",
   "execution_count": 76,
   "id": "da5b5154",
   "metadata": {},
   "outputs": [
    {
     "name": "stdout",
     "output_type": "stream",
     "text": [
      "         Banyak sampel  Persentase\n",
      "Yes                398       64.82\n",
      "No                 213       34.69\n",
      "Missing              3        0.49\n"
     ]
    },
    {
     "data": {
      "image/png": "[encoded data removed]",
      "text/plain": [
       "<Figure size 720x360 with 1 Axes>"
      ]
     },
     "metadata": {},
     "output_type": "display_data"
    }
   ],
   "source": [
    "#membuat dataframe yang memuat banyak sampel dan perentase tiap kategori kolom 'Married'\n",
    "count = df2['Married'].value_counts()\n",
    "percentage = 100*df2['Married'].value_counts(normalize=True)\n",
    "df2_col = pd.DataFrame({'Banyak sampel':count, 'Persentase':round(percentage,2)})\n",
    "print(df2_col)\n",
    "\n",
    "#membuat count plot untuk kolom 'Married'\n",
    "sns.set_style('whitegrid')\n",
    "sns.countplot(x='Married', data=df2, palette='ocean',\n",
    "              order=['Yes', 'No', 'Missing'])\n",
    "for i, v in enumerate(count):\n",
    "    plt.text(i-0.05, v+10, str(v), fontweight='bold')\n",
    "plt.ylim(ymax=450)\n",
    "plt.title('Count Plot untuk Kolom Married', pad=20, fontsize=20)\n",
    "plt.gcf().set_size_inches(10,5)\n",
    "plt.show()"
   ]
  },
  {
   "cell_type": "code",
   "execution_count": 77,
   "id": "ee3bdca8",
   "metadata": {
    "scrolled": false
   },
   "outputs": [
    {
     "name": "stdout",
     "output_type": "stream",
     "text": [
      "         Banyak sampel  Persentase\n",
      "0                  345       56.19\n",
      "1                  102       16.61\n",
      "2                  101       16.45\n",
      "3+                  51        8.31\n",
      "Missing             15        2.44\n"
     ]
    },
    {
     "data": {
      "image/png": "[encoded data removed]",
      "text/plain": [
       "<Figure size 720x360 with 1 Axes>"
      ]
     },
     "metadata": {},
     "output_type": "display_data"
    }
   ],
   "source": [
    "#membuat dataframe yang memuat banyak sampel dan perentase tiap kategori kolom 'Dependents'\n",
    "count = df2['Dependents'].value_counts()\n",
    "percentage = 100*df2['Dependents'].value_counts(normalize=True)\n",
    "df2_col = pd.DataFrame({'Banyak sampel':count, 'Persentase':round(percentage,2)})\n",
    "print(df2_col)\n",
    "\n",
    "#membuat count plot untuk kolom 'Dependents'\n",
    "sns.set_style('whitegrid')\n",
    "sns.countplot(x='Dependents', data=df2, palette='ocean')\n",
    "for i, v in enumerate(count):\n",
    "    plt.text(i-0.05, v+10, str(v), fontweight='bold')\n",
    "plt.ylim(ymax=400)\n",
    "plt.title('Count Plot untuk Kolom Dependents', pad=20, fontsize=20)\n",
    "plt.gcf().set_size_inches(10,5)\n",
    "plt.show()"
   ]
  },
  {
   "cell_type": "code",
   "execution_count": 78,
   "id": "44b40091",
   "metadata": {},
   "outputs": [
    {
     "name": "stdout",
     "output_type": "stream",
     "text": [
      "              Banyak sampel  Persentase\n",
      "Graduate                480       78.18\n",
      "Not Graduate            134       21.82\n"
     ]
    },
    {
     "data": {
      "image/png": "[encoded data removed]",
      "text/plain": [
       "<Figure size 720x360 with 1 Axes>"
      ]
     },
     "metadata": {},
     "output_type": "display_data"
    }
   ],
   "source": [
    "#membuat dataframe yang memuat banyak sampel dan perentase tiap kategori kolom 'Education'\n",
    "count = df2['Education'].value_counts()\n",
    "percentage = 100*df2['Education'].value_counts(normalize=True)\n",
    "df2_col = pd.DataFrame({'Banyak sampel':count, 'Persentase':round(percentage,2)})\n",
    "print(df2_col)\n",
    "\n",
    "#membuat count plot untuk kolom 'Education'\n",
    "sns.set_style('whitegrid')\n",
    "sns.countplot(x='Education', data=df2, palette='ocean')\n",
    "for i, v in enumerate(count):\n",
    "    plt.text(i-0.05, v+10, str(v), fontweight='bold')\n",
    "plt.ylim(ymax=550)\n",
    "plt.title('Count Plot untuk Kolom Education', pad=20, fontsize=20)\n",
    "plt.gcf().set_size_inches(10,5)\n",
    "plt.show()"
   ]
  },
  {
   "cell_type": "code",
   "execution_count": 79,
   "id": "1b9a36c1",
   "metadata": {
    "scrolled": false
   },
   "outputs": [
    {
     "name": "stdout",
     "output_type": "stream",
     "text": [
      "         Banyak sampel  Persentase\n",
      "No                 500       81.43\n",
      "Yes                 82       13.36\n",
      "Missing             32        5.21\n"
     ]
    },
    {
     "data": {
      "image/png": "[encoded data removed]",
      "text/plain": [
       "<Figure size 720x360 with 1 Axes>"
      ]
     },
     "metadata": {},
     "output_type": "display_data"
    }
   ],
   "source": [
    "#membuat dataframe yang memuat banyak sampel dan perentase tiap kategori kolom 'Self_Employed'\n",
    "count = df2['Self_Employed'].value_counts()\n",
    "percentage = 100*df2['Self_Employed'].value_counts(normalize=True)\n",
    "df2_col = pd.DataFrame({'Banyak sampel':count, 'Persentase':round(percentage,2)})\n",
    "print(df2_col)\n",
    "\n",
    "#membuat count plot untuk kolom 'Self_Employed'\n",
    "sns.set_style('whitegrid')\n",
    "sns.countplot(x='Self_Employed', data=df2, palette='ocean')\n",
    "for i, v in enumerate(count):\n",
    "    plt.text(i-0.05, v+10, str(v), fontweight='bold')\n",
    "plt.ylim(ymax=550)\n",
    "plt.title('Count Plot untuk Kolom Self_Employed', pad=20, fontsize=20)\n",
    "plt.gcf().set_size_inches(10,5)\n",
    "plt.show()"
   ]
  },
  {
   "cell_type": "code",
   "execution_count": 80,
   "id": "673cc85e",
   "metadata": {
    "scrolled": false
   },
   "outputs": [
    {
     "name": "stdout",
     "output_type": "stream",
     "text": [
      "         Banyak sampel  Persentase\n",
      "360.0              512       83.39\n",
      "180.0               44        7.17\n",
      "480.0               15        2.44\n",
      "Missing             14        2.28\n",
      "300.0               13        2.12\n",
      "240.0                4        0.65\n",
      "84.0                 4        0.65\n",
      "120.0                3        0.49\n",
      "60.0                 2        0.33\n",
      "36.0                 2        0.33\n",
      "12.0                 1        0.16\n"
     ]
    },
    {
     "data": {
      "image/png": "[encoded data removed]",
      "text/plain": [
       "<Figure size 720x360 with 1 Axes>"
      ]
     },
     "metadata": {},
     "output_type": "display_data"
    }
   ],
   "source": [
    "#membuat dataframe yang memuat banyak sampel dan perentase tiap kategori kolom 'Loan_Amount_Term'\n",
    "count = df2['Loan_Amount_Term'].value_counts()\n",
    "percentage = 100*df2['Loan_Amount_Term'].value_counts(normalize=True)\n",
    "df2_col = pd.DataFrame({'Banyak sampel':count, 'Persentase':round(percentage,2)})\n",
    "print(df2_col)\n",
    "\n",
    "#membuat count plot untuk kolom 'Loan_Amount_Term'\n",
    "sns.set_style('whitegrid')\n",
    "sns.countplot(x='Loan_Amount_Term', data=df2, palette='ocean',\n",
    "              order=[360.0, 180.0, 480.0, 'Missing', 300.0,\n",
    "                     240.0, 84.0, 120.0, 60.0, 36.0, 12.0])\n",
    "for i, v in enumerate(count):\n",
    "    plt.text(i-0.05, v+10, str(v), fontweight='bold')\n",
    "plt.ylim(ymax=550)\n",
    "plt.title('Count Plot untuk Kolom Loan_Amount_Term', pad=20, fontsize=20)\n",
    "plt.gcf().set_size_inches(10,5)\n",
    "plt.show()"
   ]
  },
  {
   "cell_type": "code",
   "execution_count": 81,
   "id": "25097542",
   "metadata": {},
   "outputs": [
    {
     "name": "stdout",
     "output_type": "stream",
     "text": [
      "         Banyak sampel  Persentase\n",
      "1.0                475       77.36\n",
      "0.0                 89       14.50\n",
      "Missing             50        8.14\n"
     ]
    },
    {
     "data": {
      "image/png": "[encoded data removed]",
      "text/plain": [
       "<Figure size 720x360 with 1 Axes>"
      ]
     },
     "metadata": {},
     "output_type": "display_data"
    }
   ],
   "source": [
    "#membuat dataframe yang memuat banyak sampel dan perentase tiap kategori kolom 'Credit_History'\n",
    "count = df2['Credit_History'].value_counts()\n",
    "percentage = 100*df2['Credit_History'].value_counts(normalize=True)\n",
    "df2_col = pd.DataFrame({'Banyak sampel':count, 'Persentase':round(percentage,2)})\n",
    "print(df2_col)\n",
    "\n",
    "#membuat count plot untuk kolom 'Credit_History'\n",
    "sns.set_style('whitegrid')\n",
    "sns.countplot(x='Credit_History', data=df2, palette='ocean')\n",
    "for i, v in enumerate(count):\n",
    "    plt.text(i-0.05, v+10, str(v), fontweight='bold')\n",
    "plt.ylim(ymax=550)\n",
    "plt.title('Count Plot untuk Kolom Credit_History', pad=20, fontsize=20)\n",
    "plt.gcf().set_size_inches(10,5)\n",
    "plt.show()"
   ]
  },
  {
   "cell_type": "code",
   "execution_count": 82,
   "id": "4c71147e",
   "metadata": {},
   "outputs": [
    {
     "name": "stdout",
     "output_type": "stream",
     "text": [
      "           Banyak sampel  Persentase\n",
      "Semiurban            233       37.95\n",
      "Urban                202       32.90\n",
      "Rural                179       29.15\n"
     ]
    },
    {
     "data": {
      "image/png": "[encoded data removed]",
      "text/plain": [
       "<Figure size 720x360 with 1 Axes>"
      ]
     },
     "metadata": {},
     "output_type": "display_data"
    }
   ],
   "source": [
    "#membuat dataframe yang memuat banyak sampel dan perentase tiap kategori kolom 'Property_Area'\n",
    "count = df2['Property_Area'].value_counts()\n",
    "percentage = 100*df2['Property_Area'].value_counts(normalize=True)\n",
    "df2_col = pd.DataFrame({'Banyak sampel':count, 'Persentase':round(percentage,2)})\n",
    "print(df2_col)\n",
    "\n",
    "#membuat count plot untuk kolom 'Property_Area'\n",
    "sns.set_style('whitegrid')\n",
    "sns.countplot(x='Property_Area', data=df2, palette='ocean',\n",
    "              order=['Semiurban', 'Urban', 'Rural'])\n",
    "for i, v in enumerate(count):\n",
    "    plt.text(i-0.05, v+10, str(v), fontweight='bold')\n",
    "plt.ylim(ymax=300)\n",
    "plt.title('Count Plot untuk Kolom Property_Area', pad=20, fontsize=20)\n",
    "plt.gcf().set_size_inches(10,5)\n",
    "plt.show()"
   ]
  },
  {
   "cell_type": "code",
   "execution_count": 83,
   "id": "0ca3ec47",
   "metadata": {
    "scrolled": false
   },
   "outputs": [
    {
     "name": "stdout",
     "output_type": "stream",
     "text": [
      "   Banyak sampel  Persentase\n",
      "Y            422       68.73\n",
      "N            192       31.27\n"
     ]
    },
    {
     "data": {
      "image/png": "[encoded data removed]",
      "text/plain": [
       "<Figure size 720x360 with 1 Axes>"
      ]
     },
     "metadata": {},
     "output_type": "display_data"
    }
   ],
   "source": [
    "#membuat dataframe yang memuat banyak sampel dan perentase tiap kategori kolom 'Loan_Status'\n",
    "count = df2['Loan_Status'].value_counts()\n",
    "percentage = 100*df2['Loan_Status'].value_counts(normalize=True)\n",
    "df2_col = pd.DataFrame({'Banyak sampel':count, 'Persentase':round(percentage,2)})\n",
    "print(df2_col)\n",
    "\n",
    "#membuat count plot untuk kolom 'Loan_Status'\n",
    "sns.set_style('whitegrid')\n",
    "sns.countplot(x='Loan_Status', data=df2, palette='ocean')\n",
    "for i, v in enumerate(count):\n",
    "    plt.text(i-0.05, v+10, str(v), fontweight='bold')\n",
    "plt.ylim(ymax=500)\n",
    "plt.title('Count Plot untuk Kolom Loan_Status', pad=20, fontsize=20)\n",
    "plt.gcf().set_size_inches(10,5)\n",
    "plt.show()"
   ]
  },
  {
   "cell_type": "markdown",
   "id": "98e6e8ca",
   "metadata": {},
   "source": [
    "#### **Numerical Data**"
   ]
  },
  {
   "cell_type": "code",
   "execution_count": 84,
   "id": "9a6add9a",
   "metadata": {},
   "outputs": [
    {
     "data": {
      "image/png": "[encoded data removed]",
      "text/plain": [
       "<Figure size 720x864 with 3 Axes>"
      ]
     },
     "metadata": {},
     "output_type": "display_data"
    }
   ],
   "source": [
    "#membuat histogram untuk melihat distribusi data pada kolom numerik\n",
    "sns.set_style('whitegrid')\n",
    "fig, ax = plt.subplots(3, 1, figsize=(10, 12))\n",
    "\n",
    "sns.histplot(data=df, x='ApplicantIncome', kde=True, ax=ax[0], color='darkblue')\n",
    "sns.histplot(data=df, x='CoapplicantIncome', kde=True, ax=ax[1], color='green')\n",
    "sns.histplot(data=df, x='LoanAmount', kde=True, ax=ax[2], color='orange')\n",
    "plt.show()"
   ]
  },
  {
   "cell_type": "code",
   "execution_count": 85,
   "id": "b89cf7cd",
   "metadata": {
    "scrolled": false
   },
   "outputs": [
    {
     "data": {
      "image/png": "[encoded data removed]",
      "text/plain": [
       "<Figure size 720x864 with 3 Axes>"
      ]
     },
     "metadata": {},
     "output_type": "display_data"
    }
   ],
   "source": [
    "#membuat box plot untuk mendeteksi outlier pada kolom numerik\n",
    "sns.set_style('whitegrid')\n",
    "fig, ax = plt.subplots(3, 1, figsize=(10, 12))\n",
    "\n",
    "sns.boxplot(x=df['ApplicantIncome'], ax=ax[0], color='darkblue')\n",
    "sns.boxplot(x=df['CoapplicantIncome'], ax=ax[1], color='green')\n",
    "sns.boxplot(x=df['LoanAmount'], ax=ax[2], color='orange')\n",
    "plt.show()"
   ]
  },
  {
   "cell_type": "markdown",
   "id": "0dd76fc7",
   "metadata": {},
   "source": [
    "Beberapa informasi yang dapat diperoleh dari tahapan Univariate Analysis di atas adalah:\n",
    "- Secara umum, untuk kolom dengan tipe data kategorikal, hampir semua kolom memiliki kategori dominan yang ditunjukkan dengan persentase >50%. Secara khusus untuk kolom 'Loan_Status', perbandingan kategorinya adalah 69:31 (imbalance), artinya perlu dilakukan perlakuan khusus agar nantinya model yang dibuat tidak ada kecenderungan prediksi berlebih ke kategori tertentu.\n",
    "- Terdapat outlier pada kolom-kolom dengan tipe data numerik, yakni kolom 'ApplicantIncome', 'CoapplicantIncome', dan 'LoanAmount'. Nantinya akan dilakukan proses **handling outlier** pada tahap *data preparation*."
   ]
  },
  {
   "cell_type": "markdown",
   "id": "21061dc0",
   "metadata": {},
   "source": [
    "### Exploratory Data Analysis: Multivariate Analysis"
   ]
  },
  {
   "cell_type": "markdown",
   "id": "3012c6b6",
   "metadata": {},
   "source": [
    "#### **Categorical Data**"
   ]
  },
  {
   "cell_type": "code",
   "execution_count": 86,
   "id": "e343a8b1",
   "metadata": {},
   "outputs": [
    {
     "data": {
      "image/png": "[encoded data removed]",
      "text/plain": [
       "<Figure size 864x504 with 1 Axes>"
      ]
     },
     "metadata": {},
     "output_type": "display_data"
    }
   ],
   "source": [
    "#melihat banyaknya status pernikahan berdasarkan gender peminjam\n",
    "plt.figure(figsize=(12,7))\n",
    "sns.countplot(x='Gender', data=df2, hue='Married', palette='ocean')\n",
    "plt.title('Banyak Status Pernikahan berdasarkan Gender Peminjam',\n",
    "          pad=20, fontsize=20)\n",
    "plt.legend(title='Married', loc='upper right')\n",
    "plt.show()"
   ]
  },
  {
   "cell_type": "code",
   "execution_count": 87,
   "id": "4560a160",
   "metadata": {},
   "outputs": [
    {
     "data": {
      "image/png": "[encoded data removed]",
      "text/plain": [
       "<Figure size 864x504 with 1 Axes>"
      ]
     },
     "metadata": {},
     "output_type": "display_data"
    }
   ],
   "source": [
    "#melihat banyaknya status self-employed berdasarkan status pinjaman\n",
    "plt.figure(figsize=(12,7))\n",
    "sns.countplot(x='Loan_Status', data=df2, hue='Self_Employed', palette='ocean')\n",
    "plt.title('Banyak Status Self-Employed berdasarkan Status Pinjaman',\n",
    "          pad=20, fontsize=20)\n",
    "plt.show()"
   ]
  },
  {
   "cell_type": "code",
   "execution_count": 88,
   "id": "c7e788d4",
   "metadata": {
    "scrolled": false
   },
   "outputs": [
    {
     "data": {
      "image/png": "[encoded data removed]",
      "text/plain": [
       "<Figure size 864x504 with 1 Axes>"
      ]
     },
     "metadata": {},
     "output_type": "display_data"
    }
   ],
   "source": [
    "#melihat banyaknya status pengajuan pinjaman berdasarkan riwayat kredit peminjam\n",
    "plt.figure(figsize=(12,7))\n",
    "sns.countplot(x='Credit_History', data=df2, hue='Loan_Status', palette='ocean')\n",
    "plt.title('Banyak Status Pinjaman berdasarkan Riwayat Kredit Peminjam',\n",
    "          pad=20, fontsize=20)\n",
    "plt.show()"
   ]
  },
  {
   "cell_type": "markdown",
   "id": "0d24ed1a",
   "metadata": {},
   "source": [
    "#### **Numerical Data**"
   ]
  },
  {
   "cell_type": "code",
   "execution_count": 89,
   "id": "0b76af89",
   "metadata": {},
   "outputs": [
    {
     "data": {
      "image/png": "[encoded data removed]",
      "text/plain": [
       "<Figure size 720x720 with 12 Axes>"
      ]
     },
     "metadata": {},
     "output_type": "display_data"
    }
   ],
   "source": [
    "df_num = df[['ApplicantIncome', 'CoapplicantIncome', 'LoanAmount']]\n",
    "\n",
    "#melihat distribusi pada beberapa kolom dengan tipe data numerik\n",
    "sns.pairplot(df_num, diag_kind='kde')\n",
    "plt.gcf().set_size_inches(10,10)\n",
    "plt.show()"
   ]
  },
  {
   "cell_type": "code",
   "execution_count": 90,
   "id": "b2fd95b6",
   "metadata": {
    "scrolled": false
   },
   "outputs": [
    {
     "data": {
      "image/png": "[encoded data removed]",
      "text/plain": [
       "<Figure size 864x504 with 2 Axes>"
      ]
     },
     "metadata": {},
     "output_type": "display_data"
    }
   ],
   "source": [
    "#membuat heatmap korelasi antar variabel numerik\n",
    "plt.figure(figsize=(12,7))\n",
    "sns.heatmap(data=df.corr(), annot=True, cmap='Reds')\n",
    "plt.show()"
   ]
  },
  {
   "cell_type": "markdown",
   "id": "e3e969b6",
   "metadata": {},
   "source": [
    "Beberapa informasi yang dapat diperoleh dari tahapan Multivariate Analysis di atas adalah:\n",
    "- Untuk peminjam dengan gender laki-laki didominasi oleh yang sudah menikah. Hal ini bertolak belakang dengan peminjam dengan gender perempuan. Oleh karenanya, nantinya missing values pada kolom gender akan diisi dengan 'Male' karena memiliki kemiripan dengan gender laki-laki apabila dilihat dari status pernikahan.\n",
    "- Riwayat peminjam yang buruk cenderung ditolak pengajuan pinjamannya. Karena missing value dari riwayat peminjam didominasi oleh yang diterima pinjamannya, maka nantinya missing value ini akan diisi dengan nilai 1 (Good).\n",
    "-Terdapat korelasi yang sedang antara kolom 'LoanAmount' dengan 'ApplicantIncome'."
   ]
  },
  {
   "cell_type": "markdown",
   "id": "bacde597",
   "metadata": {},
   "source": [
    "## **[Data Preparation]**"
   ]
  },
  {
   "cell_type": "markdown",
   "id": "b2b733b4",
   "metadata": {},
   "source": [
    "#### **Handling Missing Values**"
   ]
  },
  {
   "cell_type": "code",
   "execution_count": 91,
   "id": "d276652c",
   "metadata": {},
   "outputs": [],
   "source": [
    "#handling missing values untuk kolom dengan tipe data kategorikal\n",
    "df['Gender'] = df['Gender'].fillna('Male')\n",
    "df['Married'] = df['Married'].fillna(df['Married'].mode()[0])\n",
    "df['Dependents'] = df['Dependents'].fillna(df['Dependents'].mode()[0])\n",
    "df['Self_Employed'] = df['Self_Employed'].fillna(df['Self_Employed'].mode()[0])\n",
    "df['Loan_Amount_Term'] = df['Loan_Amount_Term'].fillna(df['Loan_Amount_Term'].mode()[0])\n",
    "\n",
    "#handling missing values untuk kolom dengan tipe data numerikal\n",
    "df['LoanAmount'] = df['LoanAmount'].fillna(df['LoanAmount'].median())\n",
    "df['Credit_History'] = df['Credit_History'].fillna(1.0)"
   ]
  },
  {
   "cell_type": "code",
   "execution_count": 92,
   "id": "db3f01a4",
   "metadata": {
    "scrolled": false
   },
   "outputs": [
    {
     "data": {
      "text/plain": [
       "Loan_ID              0\n",
       "Gender               0\n",
       "Married              0\n",
       "Dependents           0\n",
       "Education            0\n",
       "Self_Employed        0\n",
       "ApplicantIncome      0\n",
       "CoapplicantIncome    0\n",
       "LoanAmount           0\n",
       "Loan_Amount_Term     0\n",
       "Credit_History       0\n",
       "Property_Area        0\n",
       "Loan_Status          0\n",
       "dtype: int64"
      ]
     },
     "execution_count": 92,
     "metadata": {},
     "output_type": "execute_result"
    }
   ],
   "source": [
    "#mengecek kembali banyaknya missing value di setiap kolom\n",
    "df.isna().sum()"
   ]
  },
  {
   "cell_type": "markdown",
   "id": "318404cb",
   "metadata": {},
   "source": [
    "#### **Mengganti Tipe Data**"
   ]
  },
  {
   "cell_type": "code",
   "execution_count": 93,
   "id": "cee7ebc0",
   "metadata": {},
   "outputs": [],
   "source": [
    "#mengganti beberapa tipe data kolom\n",
    "df['CoapplicantIncome'] = df['CoapplicantIncome'].astype('int64')\n",
    "df['LoanAmount'] = df['LoanAmount'].astype('int64')\n",
    "df['Credit_History'] = df['Credit_History'].astype('int64')\n",
    "df['Loan_Amount_Term'] = df['Loan_Amount_Term'].astype('int64')\n",
    "\n",
    "#mengembalikan tipe data kolom 'Loan_Amount_Term' menjadi object\n",
    "df['Loan_Amount_Term'] = df['Loan_Amount_Term'].astype('object')"
   ]
  },
  {
   "cell_type": "code",
   "execution_count": 94,
   "id": "a863e9c9",
   "metadata": {
    "scrolled": true
   },
   "outputs": [
    {
     "name": "stdout",
     "output_type": "stream",
     "text": [
      "<class 'pandas.core.frame.DataFrame'>\n",
      "RangeIndex: 614 entries, 0 to 613\n",
      "Data columns (total 13 columns):\n",
      " #   Column             Non-Null Count  Dtype \n",
      "---  ------             --------------  ----- \n",
      " 0   Loan_ID            614 non-null    object\n",
      " 1   Gender             614 non-null    object\n",
      " 2   Married            614 non-null    object\n",
      " 3   Dependents         614 non-null    object\n",
      " 4   Education          614 non-null    object\n",
      " 5   Self_Employed      614 non-null    object\n",
      " 6   ApplicantIncome    614 non-null    int64 \n",
      " 7   CoapplicantIncome  614 non-null    int64 \n",
      " 8   LoanAmount         614 non-null    int64 \n",
      " 9   Loan_Amount_Term   614 non-null    object\n",
      " 10  Credit_History     614 non-null    int64 \n",
      " 11  Property_Area      614 non-null    object\n",
      " 12  Loan_Status        614 non-null    object\n",
      "dtypes: int64(4), object(9)\n",
      "memory usage: 62.5+ KB\n"
     ]
    }
   ],
   "source": [
    "#mengecek kembali Non-Null value dan tipe data di setiap kolom\n",
    "df.info()"
   ]
  },
  {
   "cell_type": "markdown",
   "id": "765650c9",
   "metadata": {},
   "source": [
    "#### **Handling Outliers**"
   ]
  },
  {
   "cell_type": "code",
   "execution_count": 95,
   "id": "464a25fc",
   "metadata": {},
   "outputs": [],
   "source": [
    "#handling outliers\n",
    "Q1 = df.quantile(0.25)\n",
    "Q3 = df.quantile(0.75)\n",
    "IQR= Q3-Q1\n",
    "\n",
    "df = df[~((df<(Q1-1.5*IQR))|(df>(Q3+1.5*IQR))).any(axis=1)]"
   ]
  },
  {
   "cell_type": "code",
   "execution_count": 96,
   "id": "fcac82e4",
   "metadata": {},
   "outputs": [
    {
     "data": {
      "image/png": "[encoded data removed]",
      "text/plain": [
       "<Figure size 720x864 with 3 Axes>"
      ]
     },
     "metadata": {},
     "output_type": "display_data"
    }
   ],
   "source": [
    "#melihat kembali boxplot untuk kolom dengan tipe data numerikal (pasca handling outliers)\n",
    "sns.set_style('whitegrid')\n",
    "fig, ax = plt.subplots(3, 1, figsize=(10, 12))\n",
    "\n",
    "sns.boxplot(x=df['ApplicantIncome'], ax=ax[0], color='darkblue')\n",
    "sns.boxplot(x=df['CoapplicantIncome'], ax=ax[1], color='green')\n",
    "sns.boxplot(x=df['LoanAmount'], ax=ax[2], color='orange')\n",
    "plt.show()"
   ]
  },
  {
   "cell_type": "code",
   "execution_count": 97,
   "id": "c4ecfa94",
   "metadata": {
    "scrolled": true
   },
   "outputs": [
    {
     "data": {
      "text/plain": [
       "(457, 13)"
      ]
     },
     "execution_count": 97,
     "metadata": {},
     "output_type": "execute_result"
    }
   ],
   "source": [
    "#melihat kembali banyaknya baris dan kolom (pasca handling outliers)\n",
    "df.shape"
   ]
  },
  {
   "cell_type": "code",
   "execution_count": 98,
   "id": "e3b3963b",
   "metadata": {
    "scrolled": false
   },
   "outputs": [
    {
     "data": {
      "image/png": "[encoded data removed]",
      "text/plain": [
       "<Figure size 720x864 with 3 Axes>"
      ]
     },
     "metadata": {},
     "output_type": "display_data"
    }
   ],
   "source": [
    "#melihat kembali distribusi data pada kolom numerik (pasca handling outliers)\n",
    "sns.set_style('whitegrid')\n",
    "fig, ax = plt.subplots(3, 1, figsize=(10, 12))\n",
    "\n",
    "sns.histplot(data=df, x='ApplicantIncome', kde=True, ax=ax[0], color='darkblue')\n",
    "sns.histplot(data=df, x='CoapplicantIncome', kde=True, ax=ax[1], color='green')\n",
    "sns.histplot(data=df, x='LoanAmount', kde=True, ax=ax[2], color='orange')\n",
    "plt.show()"
   ]
  },
  {
   "cell_type": "markdown",
   "id": "28b3dc26",
   "metadata": {},
   "source": [
    "#### **Feature Engineering : Transformation**"
   ]
  },
  {
   "cell_type": "code",
   "execution_count": 99,
   "id": "64812ad8",
   "metadata": {},
   "outputs": [],
   "source": [
    "#feature engineering: transformasi data pada kolom numerik untung meminimalisir skewness\n",
    "df['ApplicantIncome'] = np.sqrt(df['ApplicantIncome'])\n",
    "df['CoapplicantIncome'] = np.sqrt(df['CoapplicantIncome'])\n",
    "df['LoanAmount'] = np.sqrt(df['LoanAmount'])"
   ]
  },
  {
   "cell_type": "code",
   "execution_count": 100,
   "id": "d7e33d4e",
   "metadata": {
    "scrolled": false
   },
   "outputs": [
    {
     "data": {
      "image/png": "[encoded data removed]",
      "text/plain": [
       "<Figure size 720x864 with 3 Axes>"
      ]
     },
     "metadata": {},
     "output_type": "display_data"
    }
   ],
   "source": [
    "#melihat kembali distribusi data pada kolom numerik (pasca feature engineering)\n",
    "sns.set_style('whitegrid')\n",
    "fig, ax = plt.subplots(3, 1, figsize=(10, 12))\n",
    "\n",
    "sns.histplot(data=df, x='ApplicantIncome', kde=True, ax=ax[0], color='darkblue')\n",
    "sns.histplot(data=df, x='CoapplicantIncome', kde=True, ax=ax[1], color='green')\n",
    "sns.histplot(data=df, x='LoanAmount', kde=True, ax=ax[2], color='orange')\n",
    "plt.show()"
   ]
  },
  {
   "cell_type": "markdown",
   "id": "d7202c18",
   "metadata": {},
   "source": [
    "#### **Drop Kolom 'Loan_ID'**"
   ]
  },
  {
   "cell_type": "code",
   "execution_count": 101,
   "id": "c8f975e8",
   "metadata": {},
   "outputs": [
    {
     "data": {
      "text/html": [
       "<div>\n",
       "<style scoped>\n",
       "    .dataframe tbody tr th:only-of-type {\n",
       "        vertical-align: middle;\n",
       "    }\n",
       "\n",
       "    .dataframe tbody tr th {\n",
       "        vertical-align: top;\n",
       "    }\n",
       "\n",
       "    .dataframe thead th {\n",
       "        text-align: right;\n",
       "    }\n",
       "</style>\n",
       "<table border=\"1\" class=\"dataframe\">\n",
       "  <thead>\n",
       "    <tr style=\"text-align: right;\">\n",
       "      <th></th>\n",
       "      <th>Gender</th>\n",
       "      <th>Married</th>\n",
       "      <th>Dependents</th>\n",
       "      <th>Education</th>\n",
       "      <th>Self_Employed</th>\n",
       "      <th>ApplicantIncome</th>\n",
       "      <th>CoapplicantIncome</th>\n",
       "      <th>LoanAmount</th>\n",
       "      <th>Loan_Amount_Term</th>\n",
       "      <th>Credit_History</th>\n",
       "      <th>Property_Area</th>\n",
       "      <th>Loan_Status</th>\n",
       "    </tr>\n",
       "  </thead>\n",
       "  <tbody>\n",
       "    <tr>\n",
       "      <th>0</th>\n",
       "      <td>Male</td>\n",
       "      <td>No</td>\n",
       "      <td>0</td>\n",
       "      <td>Graduate</td>\n",
       "      <td>No</td>\n",
       "      <td>76.48</td>\n",
       "      <td>0.00</td>\n",
       "      <td>11.31</td>\n",
       "      <td>360</td>\n",
       "      <td>1</td>\n",
       "      <td>Urban</td>\n",
       "      <td>Y</td>\n",
       "    </tr>\n",
       "    <tr>\n",
       "      <th>1</th>\n",
       "      <td>Male</td>\n",
       "      <td>Yes</td>\n",
       "      <td>1</td>\n",
       "      <td>Graduate</td>\n",
       "      <td>No</td>\n",
       "      <td>67.70</td>\n",
       "      <td>38.83</td>\n",
       "      <td>11.31</td>\n",
       "      <td>360</td>\n",
       "      <td>1</td>\n",
       "      <td>Rural</td>\n",
       "      <td>N</td>\n",
       "    </tr>\n",
       "    <tr>\n",
       "      <th>2</th>\n",
       "      <td>Male</td>\n",
       "      <td>Yes</td>\n",
       "      <td>0</td>\n",
       "      <td>Graduate</td>\n",
       "      <td>Yes</td>\n",
       "      <td>54.77</td>\n",
       "      <td>0.00</td>\n",
       "      <td>8.12</td>\n",
       "      <td>360</td>\n",
       "      <td>1</td>\n",
       "      <td>Urban</td>\n",
       "      <td>Y</td>\n",
       "    </tr>\n",
       "    <tr>\n",
       "      <th>3</th>\n",
       "      <td>Male</td>\n",
       "      <td>Yes</td>\n",
       "      <td>0</td>\n",
       "      <td>Not Graduate</td>\n",
       "      <td>No</td>\n",
       "      <td>50.82</td>\n",
       "      <td>48.56</td>\n",
       "      <td>10.95</td>\n",
       "      <td>360</td>\n",
       "      <td>1</td>\n",
       "      <td>Urban</td>\n",
       "      <td>Y</td>\n",
       "    </tr>\n",
       "    <tr>\n",
       "      <th>4</th>\n",
       "      <td>Male</td>\n",
       "      <td>No</td>\n",
       "      <td>0</td>\n",
       "      <td>Graduate</td>\n",
       "      <td>No</td>\n",
       "      <td>77.46</td>\n",
       "      <td>0.00</td>\n",
       "      <td>11.87</td>\n",
       "      <td>360</td>\n",
       "      <td>1</td>\n",
       "      <td>Urban</td>\n",
       "      <td>Y</td>\n",
       "    </tr>\n",
       "  </tbody>\n",
       "</table>\n",
       "</div>"
      ],
      "text/plain": [
       "  Gender Married Dependents     Education Self_Employed  ApplicantIncome  \\\n",
       "0   Male      No          0      Graduate            No            76.48   \n",
       "1   Male     Yes          1      Graduate            No            67.70   \n",
       "2   Male     Yes          0      Graduate           Yes            54.77   \n",
       "3   Male     Yes          0  Not Graduate            No            50.82   \n",
       "4   Male      No          0      Graduate            No            77.46   \n",
       "\n",
       "   CoapplicantIncome  LoanAmount Loan_Amount_Term  Credit_History  \\\n",
       "0               0.00       11.31              360               1   \n",
       "1              38.83       11.31              360               1   \n",
       "2               0.00        8.12              360               1   \n",
       "3              48.56       10.95              360               1   \n",
       "4               0.00       11.87              360               1   \n",
       "\n",
       "  Property_Area Loan_Status  \n",
       "0         Urban           Y  \n",
       "1         Rural           N  \n",
       "2         Urban           Y  \n",
       "3         Urban           Y  \n",
       "4         Urban           Y  "
      ]
     },
     "execution_count": 101,
     "metadata": {},
     "output_type": "execute_result"
    }
   ],
   "source": [
    "df = df.drop('Loan_ID', axis=1)\n",
    "df.head()"
   ]
  },
  {
   "cell_type": "markdown",
   "id": "a5c266b6",
   "metadata": {},
   "source": [
    "#### **Encoding Fitur Kategorikal**"
   ]
  },
  {
   "cell_type": "code",
   "execution_count": 102,
   "id": "1eed234a",
   "metadata": {
    "scrolled": true
   },
   "outputs": [
    {
     "data": {
      "text/html": [
       "<div>\n",
       "<style scoped>\n",
       "    .dataframe tbody tr th:only-of-type {\n",
       "        vertical-align: middle;\n",
       "    }\n",
       "\n",
       "    .dataframe tbody tr th {\n",
       "        vertical-align: top;\n",
       "    }\n",
       "\n",
       "    .dataframe thead th {\n",
       "        text-align: right;\n",
       "    }\n",
       "</style>\n",
       "<table border=\"1\" class=\"dataframe\">\n",
       "  <thead>\n",
       "    <tr style=\"text-align: right;\">\n",
       "      <th></th>\n",
       "      <th>ApplicantIncome</th>\n",
       "      <th>CoapplicantIncome</th>\n",
       "      <th>LoanAmount</th>\n",
       "      <th>Credit_History</th>\n",
       "      <th>Gender_Female</th>\n",
       "      <th>Gender_Male</th>\n",
       "      <th>Married_No</th>\n",
       "      <th>Married_Yes</th>\n",
       "      <th>Dependents_0</th>\n",
       "      <th>Dependents_1</th>\n",
       "      <th>...</th>\n",
       "      <th>Loan_Amount_Term_180</th>\n",
       "      <th>Loan_Amount_Term_240</th>\n",
       "      <th>Loan_Amount_Term_300</th>\n",
       "      <th>Loan_Amount_Term_360</th>\n",
       "      <th>Loan_Amount_Term_480</th>\n",
       "      <th>Property_Area_Rural</th>\n",
       "      <th>Property_Area_Semiurban</th>\n",
       "      <th>Property_Area_Urban</th>\n",
       "      <th>Loan_Status_N</th>\n",
       "      <th>Loan_Status_Y</th>\n",
       "    </tr>\n",
       "  </thead>\n",
       "  <tbody>\n",
       "    <tr>\n",
       "      <th>0</th>\n",
       "      <td>76.48</td>\n",
       "      <td>0.00</td>\n",
       "      <td>11.31</td>\n",
       "      <td>1</td>\n",
       "      <td>0</td>\n",
       "      <td>1</td>\n",
       "      <td>1</td>\n",
       "      <td>0</td>\n",
       "      <td>1</td>\n",
       "      <td>0</td>\n",
       "      <td>...</td>\n",
       "      <td>0</td>\n",
       "      <td>0</td>\n",
       "      <td>0</td>\n",
       "      <td>1</td>\n",
       "      <td>0</td>\n",
       "      <td>0</td>\n",
       "      <td>0</td>\n",
       "      <td>1</td>\n",
       "      <td>0</td>\n",
       "      <td>1</td>\n",
       "    </tr>\n",
       "    <tr>\n",
       "      <th>1</th>\n",
       "      <td>67.70</td>\n",
       "      <td>38.83</td>\n",
       "      <td>11.31</td>\n",
       "      <td>1</td>\n",
       "      <td>0</td>\n",
       "      <td>1</td>\n",
       "      <td>0</td>\n",
       "      <td>1</td>\n",
       "      <td>0</td>\n",
       "      <td>1</td>\n",
       "      <td>...</td>\n",
       "      <td>0</td>\n",
       "      <td>0</td>\n",
       "      <td>0</td>\n",
       "      <td>1</td>\n",
       "      <td>0</td>\n",
       "      <td>1</td>\n",
       "      <td>0</td>\n",
       "      <td>0</td>\n",
       "      <td>1</td>\n",
       "      <td>0</td>\n",
       "    </tr>\n",
       "    <tr>\n",
       "      <th>2</th>\n",
       "      <td>54.77</td>\n",
       "      <td>0.00</td>\n",
       "      <td>8.12</td>\n",
       "      <td>1</td>\n",
       "      <td>0</td>\n",
       "      <td>1</td>\n",
       "      <td>0</td>\n",
       "      <td>1</td>\n",
       "      <td>1</td>\n",
       "      <td>0</td>\n",
       "      <td>...</td>\n",
       "      <td>0</td>\n",
       "      <td>0</td>\n",
       "      <td>0</td>\n",
       "      <td>1</td>\n",
       "      <td>0</td>\n",
       "      <td>0</td>\n",
       "      <td>0</td>\n",
       "      <td>1</td>\n",
       "      <td>0</td>\n",
       "      <td>1</td>\n",
       "    </tr>\n",
       "    <tr>\n",
       "      <th>3</th>\n",
       "      <td>50.82</td>\n",
       "      <td>48.56</td>\n",
       "      <td>10.95</td>\n",
       "      <td>1</td>\n",
       "      <td>0</td>\n",
       "      <td>1</td>\n",
       "      <td>0</td>\n",
       "      <td>1</td>\n",
       "      <td>1</td>\n",
       "      <td>0</td>\n",
       "      <td>...</td>\n",
       "      <td>0</td>\n",
       "      <td>0</td>\n",
       "      <td>0</td>\n",
       "      <td>1</td>\n",
       "      <td>0</td>\n",
       "      <td>0</td>\n",
       "      <td>0</td>\n",
       "      <td>1</td>\n",
       "      <td>0</td>\n",
       "      <td>1</td>\n",
       "    </tr>\n",
       "    <tr>\n",
       "      <th>4</th>\n",
       "      <td>77.46</td>\n",
       "      <td>0.00</td>\n",
       "      <td>11.87</td>\n",
       "      <td>1</td>\n",
       "      <td>0</td>\n",
       "      <td>1</td>\n",
       "      <td>1</td>\n",
       "      <td>0</td>\n",
       "      <td>1</td>\n",
       "      <td>0</td>\n",
       "      <td>...</td>\n",
       "      <td>0</td>\n",
       "      <td>0</td>\n",
       "      <td>0</td>\n",
       "      <td>1</td>\n",
       "      <td>0</td>\n",
       "      <td>0</td>\n",
       "      <td>0</td>\n",
       "      <td>1</td>\n",
       "      <td>0</td>\n",
       "      <td>1</td>\n",
       "    </tr>\n",
       "  </tbody>\n",
       "</table>\n",
       "<p>5 rows × 31 columns</p>\n",
       "</div>"
      ],
      "text/plain": [
       "   ApplicantIncome  CoapplicantIncome  LoanAmount  Credit_History  \\\n",
       "0            76.48               0.00       11.31               1   \n",
       "1            67.70              38.83       11.31               1   \n",
       "2            54.77               0.00        8.12               1   \n",
       "3            50.82              48.56       10.95               1   \n",
       "4            77.46               0.00       11.87               1   \n",
       "\n",
       "   Gender_Female  Gender_Male  Married_No  Married_Yes  Dependents_0  \\\n",
       "0              0            1           1            0             1   \n",
       "1              0            1           0            1             0   \n",
       "2              0            1           0            1             1   \n",
       "3              0            1           0            1             1   \n",
       "4              0            1           1            0             1   \n",
       "\n",
       "   Dependents_1  ...  Loan_Amount_Term_180  Loan_Amount_Term_240  \\\n",
       "0             0  ...                     0                     0   \n",
       "1             1  ...                     0                     0   \n",
       "2             0  ...                     0                     0   \n",
       "3             0  ...                     0                     0   \n",
       "4             0  ...                     0                     0   \n",
       "\n",
       "   Loan_Amount_Term_300  Loan_Amount_Term_360  Loan_Amount_Term_480  \\\n",
       "0                     0                     1                     0   \n",
       "1                     0                     1                     0   \n",
       "2                     0                     1                     0   \n",
       "3                     0                     1                     0   \n",
       "4                     0                     1                     0   \n",
       "\n",
       "   Property_Area_Rural  Property_Area_Semiurban  Property_Area_Urban  \\\n",
       "0                    0                        0                    1   \n",
       "1                    1                        0                    0   \n",
       "2                    0                        0                    1   \n",
       "3                    0                        0                    1   \n",
       "4                    0                        0                    1   \n",
       "\n",
       "   Loan_Status_N  Loan_Status_Y  \n",
       "0              0              1  \n",
       "1              1              0  \n",
       "2              0              1  \n",
       "3              0              1  \n",
       "4              0              1  \n",
       "\n",
       "[5 rows x 31 columns]"
      ]
     },
     "execution_count": 102,
     "metadata": {},
     "output_type": "execute_result"
    }
   ],
   "source": [
    "df = pd.get_dummies(df)\n",
    "df.head()"
   ]
  },
  {
   "cell_type": "code",
   "execution_count": 103,
   "id": "b8c07ef7",
   "metadata": {},
   "outputs": [
    {
     "data": {
      "text/plain": [
       "Index(['ApplicantIncome', 'CoapplicantIncome', 'LoanAmount', 'Credit_History',\n",
       "       'Gender_Female', 'Gender_Male', 'Married_No', 'Married_Yes',\n",
       "       'Dependents_0', 'Dependents_1', 'Dependents_2', 'Dependents_3+',\n",
       "       'Education_Graduate', 'Education_Not Graduate', 'Self_Employed_No',\n",
       "       'Self_Employed_Yes', 'Loan_Amount_Term_12', 'Loan_Amount_Term_36',\n",
       "       'Loan_Amount_Term_60', 'Loan_Amount_Term_84', 'Loan_Amount_Term_120',\n",
       "       'Loan_Amount_Term_180', 'Loan_Amount_Term_240', 'Loan_Amount_Term_300',\n",
       "       'Loan_Amount_Term_360', 'Loan_Amount_Term_480', 'Property_Area_Rural',\n",
       "       'Property_Area_Semiurban', 'Property_Area_Urban', 'Loan_Status_N',\n",
       "       'Loan_Status_Y'],\n",
       "      dtype='object')"
      ]
     },
     "execution_count": 103,
     "metadata": {},
     "output_type": "execute_result"
    }
   ],
   "source": [
    "#cok kolom pasca encoding\n",
    "df.columns"
   ]
  },
  {
   "cell_type": "code",
   "execution_count": 104,
   "id": "8363862c",
   "metadata": {},
   "outputs": [],
   "source": [
    "#drop kolom yang tidak diperlukan\n",
    "df = df.drop(['Gender_Female', 'Married_No', 'Education_Not Graduate',\n",
    "              'Self_Employed_No', 'Loan_Status_N'], axis=1)"
   ]
  },
  {
   "cell_type": "code",
   "execution_count": 105,
   "id": "33850c5b",
   "metadata": {},
   "outputs": [],
   "source": [
    "#rename beberapa kolom\n",
    "df = df.rename(columns={'Gender_Male':'Gender',\n",
    "                        'Married_Yes':'Married',\n",
    "                        'Education_Graduate':'Education',\n",
    "                        'Self_Employed_Yes':'Self_Employed',\n",
    "                        'Loan_Status_Y':'Loan_Status'})"
   ]
  },
  {
   "cell_type": "code",
   "execution_count": 106,
   "id": "3eb1457b",
   "metadata": {},
   "outputs": [
    {
     "data": {
      "text/plain": [
       "Index(['ApplicantIncome', 'CoapplicantIncome', 'LoanAmount', 'Credit_History',\n",
       "       'Gender', 'Married', 'Dependents_0', 'Dependents_1', 'Dependents_2',\n",
       "       'Dependents_3+', 'Education', 'Self_Employed', 'Loan_Amount_Term_12',\n",
       "       'Loan_Amount_Term_36', 'Loan_Amount_Term_60', 'Loan_Amount_Term_84',\n",
       "       'Loan_Amount_Term_120', 'Loan_Amount_Term_180', 'Loan_Amount_Term_240',\n",
       "       'Loan_Amount_Term_300', 'Loan_Amount_Term_360', 'Loan_Amount_Term_480',\n",
       "       'Property_Area_Rural', 'Property_Area_Semiurban', 'Property_Area_Urban',\n",
       "       'Loan_Status'],\n",
       "      dtype='object')"
      ]
     },
     "execution_count": 106,
     "metadata": {},
     "output_type": "execute_result"
    }
   ],
   "source": [
    "#cok kembali kolom pasca drop dan rename\n",
    "df.columns"
   ]
  },
  {
   "cell_type": "code",
   "execution_count": 107,
   "id": "230eb420",
   "metadata": {},
   "outputs": [
    {
     "data": {
      "text/plain": [
       "(457, 26)"
      ]
     },
     "execution_count": 107,
     "metadata": {},
     "output_type": "execute_result"
    }
   ],
   "source": [
    "#melihat kembali banyaknya baris dan kolom (pasca encoding)\n",
    "df.shape"
   ]
  },
  {
   "cell_type": "markdown",
   "id": "517971b9",
   "metadata": {},
   "source": [
    "#### **Handling Imbalance Data**"
   ]
  },
  {
   "cell_type": "code",
   "execution_count": 108,
   "id": "9cce5deb",
   "metadata": {},
   "outputs": [],
   "source": [
    "#import library yang dibutuhkan\n",
    "from imblearn.over_sampling import SMOTE\n",
    "\n",
    "X = df.drop('Loan_Status', axis=1)\n",
    "y = df['Loan_Status']\n",
    "\n",
    "X, y = SMOTE().fit_resample(X, y)"
   ]
  },
  {
   "cell_type": "code",
   "execution_count": 109,
   "id": "1aee2ef3",
   "metadata": {},
   "outputs": [
    {
     "data": {
      "image/png": "[encoded data removed]",
      "text/plain": [
       "<Figure size 432x288 with 1 Axes>"
      ]
     },
     "metadata": {},
     "output_type": "display_data"
    }
   ],
   "source": [
    "#membuat count plot untuk kolom 'Loan_Status'\n",
    "sns.set_theme(style='whitegrid')\n",
    "sns.countplot(y=y, data=df, palette=\"ocean\")\n",
    "plt.ylabel('Loan Status')\n",
    "plt.xlabel('Total')\n",
    "plt.show()"
   ]
  },
  {
   "cell_type": "markdown",
   "id": "51281ec9",
   "metadata": {},
   "source": [
    "#### **Splitting Data**"
   ]
  },
  {
   "cell_type": "code",
   "execution_count": 110,
   "id": "4021bd43",
   "metadata": {},
   "outputs": [],
   "source": [
    "#import beberapa library yang dibutuhkan\n",
    "import sklearn\n",
    "from sklearn.model_selection import train_test_split\n",
    "\n",
    "#membagi dataset menjadi 70:30\n",
    "X_train, X_test, y_train, y_test = train_test_split(X, y, test_size=0.3, random_state=42)"
   ]
  },
  {
   "cell_type": "code",
   "execution_count": 111,
   "id": "39a1c194",
   "metadata": {},
   "outputs": [
    {
     "name": "stdout",
     "output_type": "stream",
     "text": [
      "Total sampel untuk data latih adalah 70%.\n",
      "Total sampel untuk data tes adalah 30%.\n"
     ]
    }
   ],
   "source": [
    "print(f'Total sampel untuk data latih adalah {round(X_train.shape[0]/(X_train.shape[0] + X_test.shape[0])*100)}%.')\n",
    "print(f'Total sampel untuk data tes adalah {round(X_test.shape[0]/(X_train.shape[0] + X_test.shape[0])*100)}%.')"
   ]
  },
  {
   "cell_type": "markdown",
   "id": "e7b27e65",
   "metadata": {},
   "source": [
    "#### **Standarisasi**"
   ]
  },
  {
   "cell_type": "code",
   "execution_count": 112,
   "id": "5a83c923",
   "metadata": {},
   "outputs": [],
   "source": [
    "#import library yang dibutuhkan\n",
    "from sklearn.preprocessing import StandardScaler\n",
    "ss = StandardScaler()\n",
    "\n",
    "col_num = ['ApplicantIncome', 'CoapplicantIncome', 'LoanAmount']\n",
    "X_train[col_num] = ss.fit_transform(X_train[col_num])\n",
    "X_test[col_num] = ss.fit_transform(X_test[col_num])"
   ]
  },
  {
   "cell_type": "code",
   "execution_count": 113,
   "id": "4aa5fbd8",
   "metadata": {
    "scrolled": true
   },
   "outputs": [
    {
     "data": {
      "text/html": [
       "<div>\n",
       "<style scoped>\n",
       "    .dataframe tbody tr th:only-of-type {\n",
       "        vertical-align: middle;\n",
       "    }\n",
       "\n",
       "    .dataframe tbody tr th {\n",
       "        vertical-align: top;\n",
       "    }\n",
       "\n",
       "    .dataframe thead th {\n",
       "        text-align: right;\n",
       "    }\n",
       "</style>\n",
       "<table border=\"1\" class=\"dataframe\">\n",
       "  <thead>\n",
       "    <tr style=\"text-align: right;\">\n",
       "      <th></th>\n",
       "      <th>ApplicantIncome</th>\n",
       "      <th>CoapplicantIncome</th>\n",
       "      <th>LoanAmount</th>\n",
       "      <th>Credit_History</th>\n",
       "      <th>Gender</th>\n",
       "      <th>Married</th>\n",
       "      <th>Dependents_0</th>\n",
       "      <th>Dependents_1</th>\n",
       "      <th>Dependents_2</th>\n",
       "      <th>Dependents_3+</th>\n",
       "      <th>...</th>\n",
       "      <th>Loan_Amount_Term_84</th>\n",
       "      <th>Loan_Amount_Term_120</th>\n",
       "      <th>Loan_Amount_Term_180</th>\n",
       "      <th>Loan_Amount_Term_240</th>\n",
       "      <th>Loan_Amount_Term_300</th>\n",
       "      <th>Loan_Amount_Term_360</th>\n",
       "      <th>Loan_Amount_Term_480</th>\n",
       "      <th>Property_Area_Rural</th>\n",
       "      <th>Property_Area_Semiurban</th>\n",
       "      <th>Property_Area_Urban</th>\n",
       "    </tr>\n",
       "  </thead>\n",
       "  <tbody>\n",
       "    <tr>\n",
       "      <th>536</th>\n",
       "      <td>-0.75</td>\n",
       "      <td>-0.95</td>\n",
       "      <td>-0.30</td>\n",
       "      <td>1</td>\n",
       "      <td>0</td>\n",
       "      <td>0</td>\n",
       "      <td>0</td>\n",
       "      <td>0</td>\n",
       "      <td>0</td>\n",
       "      <td>0</td>\n",
       "      <td>...</td>\n",
       "      <td>0</td>\n",
       "      <td>0</td>\n",
       "      <td>0</td>\n",
       "      <td>0</td>\n",
       "      <td>0</td>\n",
       "      <td>0</td>\n",
       "      <td>0</td>\n",
       "      <td>0</td>\n",
       "      <td>0</td>\n",
       "      <td>1</td>\n",
       "    </tr>\n",
       "    <tr>\n",
       "      <th>259</th>\n",
       "      <td>0.81</td>\n",
       "      <td>1.76</td>\n",
       "      <td>-1.40</td>\n",
       "      <td>1</td>\n",
       "      <td>1</td>\n",
       "      <td>1</td>\n",
       "      <td>1</td>\n",
       "      <td>0</td>\n",
       "      <td>0</td>\n",
       "      <td>0</td>\n",
       "      <td>...</td>\n",
       "      <td>0</td>\n",
       "      <td>0</td>\n",
       "      <td>0</td>\n",
       "      <td>0</td>\n",
       "      <td>0</td>\n",
       "      <td>1</td>\n",
       "      <td>0</td>\n",
       "      <td>0</td>\n",
       "      <td>1</td>\n",
       "      <td>0</td>\n",
       "    </tr>\n",
       "    <tr>\n",
       "      <th>137</th>\n",
       "      <td>-0.23</td>\n",
       "      <td>-0.95</td>\n",
       "      <td>-0.38</td>\n",
       "      <td>1</td>\n",
       "      <td>0</td>\n",
       "      <td>1</td>\n",
       "      <td>1</td>\n",
       "      <td>0</td>\n",
       "      <td>0</td>\n",
       "      <td>0</td>\n",
       "      <td>...</td>\n",
       "      <td>0</td>\n",
       "      <td>0</td>\n",
       "      <td>0</td>\n",
       "      <td>0</td>\n",
       "      <td>0</td>\n",
       "      <td>1</td>\n",
       "      <td>0</td>\n",
       "      <td>0</td>\n",
       "      <td>1</td>\n",
       "      <td>0</td>\n",
       "    </tr>\n",
       "    <tr>\n",
       "      <th>227</th>\n",
       "      <td>1.45</td>\n",
       "      <td>-0.95</td>\n",
       "      <td>1.52</td>\n",
       "      <td>1</td>\n",
       "      <td>1</td>\n",
       "      <td>1</td>\n",
       "      <td>0</td>\n",
       "      <td>1</td>\n",
       "      <td>0</td>\n",
       "      <td>0</td>\n",
       "      <td>...</td>\n",
       "      <td>0</td>\n",
       "      <td>0</td>\n",
       "      <td>0</td>\n",
       "      <td>0</td>\n",
       "      <td>0</td>\n",
       "      <td>1</td>\n",
       "      <td>0</td>\n",
       "      <td>0</td>\n",
       "      <td>1</td>\n",
       "      <td>0</td>\n",
       "    </tr>\n",
       "    <tr>\n",
       "      <th>687</th>\n",
       "      <td>-0.76</td>\n",
       "      <td>1.29</td>\n",
       "      <td>0.59</td>\n",
       "      <td>1</td>\n",
       "      <td>1</td>\n",
       "      <td>1</td>\n",
       "      <td>0</td>\n",
       "      <td>0</td>\n",
       "      <td>0</td>\n",
       "      <td>0</td>\n",
       "      <td>...</td>\n",
       "      <td>0</td>\n",
       "      <td>0</td>\n",
       "      <td>0</td>\n",
       "      <td>0</td>\n",
       "      <td>0</td>\n",
       "      <td>0</td>\n",
       "      <td>0</td>\n",
       "      <td>0</td>\n",
       "      <td>0</td>\n",
       "      <td>0</td>\n",
       "    </tr>\n",
       "  </tbody>\n",
       "</table>\n",
       "<p>5 rows × 25 columns</p>\n",
       "</div>"
      ],
      "text/plain": [
       "     ApplicantIncome  CoapplicantIncome  LoanAmount  Credit_History  Gender  \\\n",
       "536            -0.75              -0.95       -0.30               1       0   \n",
       "259             0.81               1.76       -1.40               1       1   \n",
       "137            -0.23              -0.95       -0.38               1       0   \n",
       "227             1.45              -0.95        1.52               1       1   \n",
       "687            -0.76               1.29        0.59               1       1   \n",
       "\n",
       "     Married  Dependents_0  Dependents_1  Dependents_2  Dependents_3+  ...  \\\n",
       "536        0             0             0             0              0  ...   \n",
       "259        1             1             0             0              0  ...   \n",
       "137        1             1             0             0              0  ...   \n",
       "227        1             0             1             0              0  ...   \n",
       "687        1             0             0             0              0  ...   \n",
       "\n",
       "     Loan_Amount_Term_84  Loan_Amount_Term_120  Loan_Amount_Term_180  \\\n",
       "536                    0                     0                     0   \n",
       "259                    0                     0                     0   \n",
       "137                    0                     0                     0   \n",
       "227                    0                     0                     0   \n",
       "687                    0                     0                     0   \n",
       "\n",
       "     Loan_Amount_Term_240  Loan_Amount_Term_300  Loan_Amount_Term_360  \\\n",
       "536                     0                     0                     0   \n",
       "259                     0                     0                     1   \n",
       "137                     0                     0                     1   \n",
       "227                     0                     0                     1   \n",
       "687                     0                     0                     0   \n",
       "\n",
       "     Loan_Amount_Term_480  Property_Area_Rural  Property_Area_Semiurban  \\\n",
       "536                     0                    0                        0   \n",
       "259                     0                    0                        1   \n",
       "137                     0                    0                        1   \n",
       "227                     0                    0                        1   \n",
       "687                     0                    0                        0   \n",
       "\n",
       "     Property_Area_Urban  \n",
       "536                    1  \n",
       "259                    0  \n",
       "137                    0  \n",
       "227                    0  \n",
       "687                    0  \n",
       "\n",
       "[5 rows x 25 columns]"
      ]
     },
     "execution_count": 113,
     "metadata": {},
     "output_type": "execute_result"
    }
   ],
   "source": [
    "#mengecek hasil standarisasi X_train\n",
    "X_train.head()"
   ]
  },
  {
   "cell_type": "code",
   "execution_count": 114,
   "id": "6ad64cc4",
   "metadata": {
    "scrolled": true
   },
   "outputs": [
    {
     "data": {
      "text/html": [
       "<div>\n",
       "<style scoped>\n",
       "    .dataframe tbody tr th:only-of-type {\n",
       "        vertical-align: middle;\n",
       "    }\n",
       "\n",
       "    .dataframe tbody tr th {\n",
       "        vertical-align: top;\n",
       "    }\n",
       "\n",
       "    .dataframe thead th {\n",
       "        text-align: right;\n",
       "    }\n",
       "</style>\n",
       "<table border=\"1\" class=\"dataframe\">\n",
       "  <thead>\n",
       "    <tr style=\"text-align: right;\">\n",
       "      <th></th>\n",
       "      <th>ApplicantIncome</th>\n",
       "      <th>CoapplicantIncome</th>\n",
       "      <th>LoanAmount</th>\n",
       "      <th>Credit_History</th>\n",
       "      <th>Gender</th>\n",
       "      <th>Married</th>\n",
       "      <th>Dependents_0</th>\n",
       "      <th>Dependents_1</th>\n",
       "      <th>Dependents_2</th>\n",
       "      <th>Dependents_3+</th>\n",
       "      <th>...</th>\n",
       "      <th>Loan_Amount_Term_84</th>\n",
       "      <th>Loan_Amount_Term_120</th>\n",
       "      <th>Loan_Amount_Term_180</th>\n",
       "      <th>Loan_Amount_Term_240</th>\n",
       "      <th>Loan_Amount_Term_300</th>\n",
       "      <th>Loan_Amount_Term_360</th>\n",
       "      <th>Loan_Amount_Term_480</th>\n",
       "      <th>Property_Area_Rural</th>\n",
       "      <th>Property_Area_Semiurban</th>\n",
       "      <th>Property_Area_Urban</th>\n",
       "    </tr>\n",
       "  </thead>\n",
       "  <tbody>\n",
       "    <tr>\n",
       "      <th>559</th>\n",
       "      <td>0.14</td>\n",
       "      <td>1.14</td>\n",
       "      <td>0.95</td>\n",
       "      <td>1</td>\n",
       "      <td>1</td>\n",
       "      <td>1</td>\n",
       "      <td>0</td>\n",
       "      <td>1</td>\n",
       "      <td>0</td>\n",
       "      <td>0</td>\n",
       "      <td>...</td>\n",
       "      <td>0</td>\n",
       "      <td>0</td>\n",
       "      <td>0</td>\n",
       "      <td>0</td>\n",
       "      <td>0</td>\n",
       "      <td>0</td>\n",
       "      <td>0</td>\n",
       "      <td>0</td>\n",
       "      <td>0</td>\n",
       "      <td>0</td>\n",
       "    </tr>\n",
       "    <tr>\n",
       "      <th>33</th>\n",
       "      <td>-0.30</td>\n",
       "      <td>-1.01</td>\n",
       "      <td>-0.79</td>\n",
       "      <td>1</td>\n",
       "      <td>0</td>\n",
       "      <td>0</td>\n",
       "      <td>1</td>\n",
       "      <td>0</td>\n",
       "      <td>0</td>\n",
       "      <td>0</td>\n",
       "      <td>...</td>\n",
       "      <td>0</td>\n",
       "      <td>0</td>\n",
       "      <td>0</td>\n",
       "      <td>0</td>\n",
       "      <td>0</td>\n",
       "      <td>1</td>\n",
       "      <td>0</td>\n",
       "      <td>0</td>\n",
       "      <td>0</td>\n",
       "      <td>1</td>\n",
       "    </tr>\n",
       "    <tr>\n",
       "      <th>275</th>\n",
       "      <td>2.14</td>\n",
       "      <td>1.21</td>\n",
       "      <td>0.93</td>\n",
       "      <td>1</td>\n",
       "      <td>1</td>\n",
       "      <td>1</td>\n",
       "      <td>0</td>\n",
       "      <td>0</td>\n",
       "      <td>1</td>\n",
       "      <td>0</td>\n",
       "      <td>...</td>\n",
       "      <td>0</td>\n",
       "      <td>0</td>\n",
       "      <td>0</td>\n",
       "      <td>0</td>\n",
       "      <td>0</td>\n",
       "      <td>1</td>\n",
       "      <td>0</td>\n",
       "      <td>1</td>\n",
       "      <td>0</td>\n",
       "      <td>0</td>\n",
       "    </tr>\n",
       "    <tr>\n",
       "      <th>198</th>\n",
       "      <td>0.58</td>\n",
       "      <td>-1.01</td>\n",
       "      <td>0.17</td>\n",
       "      <td>1</td>\n",
       "      <td>1</td>\n",
       "      <td>1</td>\n",
       "      <td>0</td>\n",
       "      <td>0</td>\n",
       "      <td>0</td>\n",
       "      <td>1</td>\n",
       "      <td>...</td>\n",
       "      <td>0</td>\n",
       "      <td>0</td>\n",
       "      <td>0</td>\n",
       "      <td>0</td>\n",
       "      <td>0</td>\n",
       "      <td>1</td>\n",
       "      <td>0</td>\n",
       "      <td>0</td>\n",
       "      <td>1</td>\n",
       "      <td>0</td>\n",
       "    </tr>\n",
       "    <tr>\n",
       "      <th>192</th>\n",
       "      <td>-0.64</td>\n",
       "      <td>0.68</td>\n",
       "      <td>0.06</td>\n",
       "      <td>1</td>\n",
       "      <td>1</td>\n",
       "      <td>1</td>\n",
       "      <td>0</td>\n",
       "      <td>1</td>\n",
       "      <td>0</td>\n",
       "      <td>0</td>\n",
       "      <td>...</td>\n",
       "      <td>0</td>\n",
       "      <td>0</td>\n",
       "      <td>0</td>\n",
       "      <td>0</td>\n",
       "      <td>0</td>\n",
       "      <td>0</td>\n",
       "      <td>1</td>\n",
       "      <td>0</td>\n",
       "      <td>1</td>\n",
       "      <td>0</td>\n",
       "    </tr>\n",
       "  </tbody>\n",
       "</table>\n",
       "<p>5 rows × 25 columns</p>\n",
       "</div>"
      ],
      "text/plain": [
       "     ApplicantIncome  CoapplicantIncome  LoanAmount  Credit_History  Gender  \\\n",
       "559             0.14               1.14        0.95               1       1   \n",
       "33             -0.30              -1.01       -0.79               1       0   \n",
       "275             2.14               1.21        0.93               1       1   \n",
       "198             0.58              -1.01        0.17               1       1   \n",
       "192            -0.64               0.68        0.06               1       1   \n",
       "\n",
       "     Married  Dependents_0  Dependents_1  Dependents_2  Dependents_3+  ...  \\\n",
       "559        1             0             1             0              0  ...   \n",
       "33         0             1             0             0              0  ...   \n",
       "275        1             0             0             1              0  ...   \n",
       "198        1             0             0             0              1  ...   \n",
       "192        1             0             1             0              0  ...   \n",
       "\n",
       "     Loan_Amount_Term_84  Loan_Amount_Term_120  Loan_Amount_Term_180  \\\n",
       "559                    0                     0                     0   \n",
       "33                     0                     0                     0   \n",
       "275                    0                     0                     0   \n",
       "198                    0                     0                     0   \n",
       "192                    0                     0                     0   \n",
       "\n",
       "     Loan_Amount_Term_240  Loan_Amount_Term_300  Loan_Amount_Term_360  \\\n",
       "559                     0                     0                     0   \n",
       "33                      0                     0                     1   \n",
       "275                     0                     0                     1   \n",
       "198                     0                     0                     1   \n",
       "192                     0                     0                     0   \n",
       "\n",
       "     Loan_Amount_Term_480  Property_Area_Rural  Property_Area_Semiurban  \\\n",
       "559                     0                    0                        0   \n",
       "33                      0                    0                        0   \n",
       "275                     0                    1                        0   \n",
       "198                     0                    0                        1   \n",
       "192                     1                    0                        1   \n",
       "\n",
       "     Property_Area_Urban  \n",
       "559                    0  \n",
       "33                     1  \n",
       "275                    0  \n",
       "198                    0  \n",
       "192                    0  \n",
       "\n",
       "[5 rows x 25 columns]"
      ]
     },
     "execution_count": 114,
     "metadata": {},
     "output_type": "execute_result"
    }
   ],
   "source": [
    "#mengecek hasil standarisasi X_test\n",
    "X_test.head()"
   ]
  },
  {
   "cell_type": "markdown",
   "id": "745a750b",
   "metadata": {},
   "source": [
    "## **[Modelling]**"
   ]
  },
  {
   "cell_type": "markdown",
   "id": "cc8ea2e4",
   "metadata": {},
   "source": [
    "#### **Melihat Performa Beberapa Model Secara General**"
   ]
  },
  {
   "cell_type": "code",
   "execution_count": 115,
   "id": "a7d9f641",
   "metadata": {
    "scrolled": false
   },
   "outputs": [
    {
     "name": "stderr",
     "output_type": "stream",
     "text": [
      "100%|██████████████████████████████████████████████████████████████████████████████████| 29/29 [00:01<00:00, 22.74it/s]\n"
     ]
    },
    {
     "data": {
      "text/html": [
       "<div>\n",
       "<style scoped>\n",
       "    .dataframe tbody tr th:only-of-type {\n",
       "        vertical-align: middle;\n",
       "    }\n",
       "\n",
       "    .dataframe tbody tr th {\n",
       "        vertical-align: top;\n",
       "    }\n",
       "\n",
       "    .dataframe thead th {\n",
       "        text-align: right;\n",
       "    }\n",
       "</style>\n",
       "<table border=\"1\" class=\"dataframe\">\n",
       "  <thead>\n",
       "    <tr style=\"text-align: right;\">\n",
       "      <th></th>\n",
       "      <th>Accuracy</th>\n",
       "      <th>Balanced Accuracy</th>\n",
       "      <th>ROC AUC</th>\n",
       "      <th>F1 Score</th>\n",
       "      <th>Time Taken</th>\n",
       "    </tr>\n",
       "    <tr>\n",
       "      <th>Model</th>\n",
       "      <th></th>\n",
       "      <th></th>\n",
       "      <th></th>\n",
       "      <th></th>\n",
       "      <th></th>\n",
       "    </tr>\n",
       "  </thead>\n",
       "  <tbody>\n",
       "    <tr>\n",
       "      <th>LinearSVC</th>\n",
       "      <td>0.85</td>\n",
       "      <td>0.85</td>\n",
       "      <td>0.85</td>\n",
       "      <td>0.85</td>\n",
       "      <td>0.04</td>\n",
       "    </tr>\n",
       "    <tr>\n",
       "      <th>CalibratedClassifierCV</th>\n",
       "      <td>0.85</td>\n",
       "      <td>0.84</td>\n",
       "      <td>0.84</td>\n",
       "      <td>0.85</td>\n",
       "      <td>0.12</td>\n",
       "    </tr>\n",
       "    <tr>\n",
       "      <th>KNeighborsClassifier</th>\n",
       "      <td>0.85</td>\n",
       "      <td>0.84</td>\n",
       "      <td>0.84</td>\n",
       "      <td>0.85</td>\n",
       "      <td>0.09</td>\n",
       "    </tr>\n",
       "    <tr>\n",
       "      <th>SVC</th>\n",
       "      <td>0.85</td>\n",
       "      <td>0.84</td>\n",
       "      <td>0.84</td>\n",
       "      <td>0.84</td>\n",
       "      <td>0.03</td>\n",
       "    </tr>\n",
       "    <tr>\n",
       "      <th>NuSVC</th>\n",
       "      <td>0.84</td>\n",
       "      <td>0.84</td>\n",
       "      <td>0.84</td>\n",
       "      <td>0.84</td>\n",
       "      <td>0.04</td>\n",
       "    </tr>\n",
       "    <tr>\n",
       "      <th>RandomForestClassifier</th>\n",
       "      <td>0.83</td>\n",
       "      <td>0.83</td>\n",
       "      <td>0.83</td>\n",
       "      <td>0.83</td>\n",
       "      <td>0.22</td>\n",
       "    </tr>\n",
       "    <tr>\n",
       "      <th>RidgeClassifier</th>\n",
       "      <td>0.83</td>\n",
       "      <td>0.83</td>\n",
       "      <td>0.83</td>\n",
       "      <td>0.83</td>\n",
       "      <td>0.02</td>\n",
       "    </tr>\n",
       "    <tr>\n",
       "      <th>LinearDiscriminantAnalysis</th>\n",
       "      <td>0.83</td>\n",
       "      <td>0.83</td>\n",
       "      <td>0.83</td>\n",
       "      <td>0.83</td>\n",
       "      <td>0.02</td>\n",
       "    </tr>\n",
       "    <tr>\n",
       "      <th>LGBMClassifier</th>\n",
       "      <td>0.83</td>\n",
       "      <td>0.83</td>\n",
       "      <td>0.83</td>\n",
       "      <td>0.83</td>\n",
       "      <td>0.08</td>\n",
       "    </tr>\n",
       "    <tr>\n",
       "      <th>ExtraTreesClassifier</th>\n",
       "      <td>0.83</td>\n",
       "      <td>0.83</td>\n",
       "      <td>0.83</td>\n",
       "      <td>0.83</td>\n",
       "      <td>0.14</td>\n",
       "    </tr>\n",
       "    <tr>\n",
       "      <th>LogisticRegression</th>\n",
       "      <td>0.83</td>\n",
       "      <td>0.82</td>\n",
       "      <td>0.82</td>\n",
       "      <td>0.83</td>\n",
       "      <td>0.02</td>\n",
       "    </tr>\n",
       "    <tr>\n",
       "      <th>XGBClassifier</th>\n",
       "      <td>0.82</td>\n",
       "      <td>0.82</td>\n",
       "      <td>0.82</td>\n",
       "      <td>0.82</td>\n",
       "      <td>0.08</td>\n",
       "    </tr>\n",
       "    <tr>\n",
       "      <th>RidgeClassifierCV</th>\n",
       "      <td>0.83</td>\n",
       "      <td>0.82</td>\n",
       "      <td>0.82</td>\n",
       "      <td>0.83</td>\n",
       "      <td>0.02</td>\n",
       "    </tr>\n",
       "    <tr>\n",
       "      <th>AdaBoostClassifier</th>\n",
       "      <td>0.82</td>\n",
       "      <td>0.82</td>\n",
       "      <td>0.82</td>\n",
       "      <td>0.82</td>\n",
       "      <td>0.10</td>\n",
       "    </tr>\n",
       "    <tr>\n",
       "      <th>NearestCentroid</th>\n",
       "      <td>0.81</td>\n",
       "      <td>0.80</td>\n",
       "      <td>0.80</td>\n",
       "      <td>0.80</td>\n",
       "      <td>0.02</td>\n",
       "    </tr>\n",
       "    <tr>\n",
       "      <th>BernoulliNB</th>\n",
       "      <td>0.81</td>\n",
       "      <td>0.80</td>\n",
       "      <td>0.80</td>\n",
       "      <td>0.80</td>\n",
       "      <td>0.01</td>\n",
       "    </tr>\n",
       "    <tr>\n",
       "      <th>BaggingClassifier</th>\n",
       "      <td>0.80</td>\n",
       "      <td>0.80</td>\n",
       "      <td>0.80</td>\n",
       "      <td>0.80</td>\n",
       "      <td>0.03</td>\n",
       "    </tr>\n",
       "    <tr>\n",
       "      <th>DecisionTreeClassifier</th>\n",
       "      <td>0.80</td>\n",
       "      <td>0.80</td>\n",
       "      <td>0.80</td>\n",
       "      <td>0.80</td>\n",
       "      <td>0.02</td>\n",
       "    </tr>\n",
       "    <tr>\n",
       "      <th>LabelSpreading</th>\n",
       "      <td>0.79</td>\n",
       "      <td>0.79</td>\n",
       "      <td>0.79</td>\n",
       "      <td>0.79</td>\n",
       "      <td>0.04</td>\n",
       "    </tr>\n",
       "    <tr>\n",
       "      <th>LabelPropagation</th>\n",
       "      <td>0.79</td>\n",
       "      <td>0.79</td>\n",
       "      <td>0.79</td>\n",
       "      <td>0.79</td>\n",
       "      <td>0.03</td>\n",
       "    </tr>\n",
       "    <tr>\n",
       "      <th>Perceptron</th>\n",
       "      <td>0.79</td>\n",
       "      <td>0.79</td>\n",
       "      <td>0.79</td>\n",
       "      <td>0.79</td>\n",
       "      <td>0.01</td>\n",
       "    </tr>\n",
       "    <tr>\n",
       "      <th>PassiveAggressiveClassifier</th>\n",
       "      <td>0.78</td>\n",
       "      <td>0.78</td>\n",
       "      <td>0.78</td>\n",
       "      <td>0.78</td>\n",
       "      <td>0.01</td>\n",
       "    </tr>\n",
       "    <tr>\n",
       "      <th>ExtraTreeClassifier</th>\n",
       "      <td>0.76</td>\n",
       "      <td>0.76</td>\n",
       "      <td>0.76</td>\n",
       "      <td>0.76</td>\n",
       "      <td>0.01</td>\n",
       "    </tr>\n",
       "    <tr>\n",
       "      <th>SGDClassifier</th>\n",
       "      <td>0.73</td>\n",
       "      <td>0.73</td>\n",
       "      <td>0.73</td>\n",
       "      <td>0.73</td>\n",
       "      <td>0.02</td>\n",
       "    </tr>\n",
       "    <tr>\n",
       "      <th>QuadraticDiscriminantAnalysis</th>\n",
       "      <td>0.69</td>\n",
       "      <td>0.70</td>\n",
       "      <td>0.70</td>\n",
       "      <td>0.68</td>\n",
       "      <td>0.01</td>\n",
       "    </tr>\n",
       "    <tr>\n",
       "      <th>GaussianNB</th>\n",
       "      <td>0.50</td>\n",
       "      <td>0.53</td>\n",
       "      <td>0.53</td>\n",
       "      <td>0.37</td>\n",
       "      <td>0.01</td>\n",
       "    </tr>\n",
       "    <tr>\n",
       "      <th>DummyClassifier</th>\n",
       "      <td>0.48</td>\n",
       "      <td>0.50</td>\n",
       "      <td>0.50</td>\n",
       "      <td>0.31</td>\n",
       "      <td>0.01</td>\n",
       "    </tr>\n",
       "  </tbody>\n",
       "</table>\n",
       "</div>"
      ],
      "text/plain": [
       "                               Accuracy  Balanced Accuracy  ROC AUC  F1 Score  \\\n",
       "Model                                                                           \n",
       "LinearSVC                          0.85               0.85     0.85      0.85   \n",
       "CalibratedClassifierCV             0.85               0.84     0.84      0.85   \n",
       "KNeighborsClassifier               0.85               0.84     0.84      0.85   \n",
       "SVC                                0.85               0.84     0.84      0.84   \n",
       "NuSVC                              0.84               0.84     0.84      0.84   \n",
       "RandomForestClassifier             0.83               0.83     0.83      0.83   \n",
       "RidgeClassifier                    0.83               0.83     0.83      0.83   \n",
       "LinearDiscriminantAnalysis         0.83               0.83     0.83      0.83   \n",
       "LGBMClassifier                     0.83               0.83     0.83      0.83   \n",
       "ExtraTreesClassifier               0.83               0.83     0.83      0.83   \n",
       "LogisticRegression                 0.83               0.82     0.82      0.83   \n",
       "XGBClassifier                      0.82               0.82     0.82      0.82   \n",
       "RidgeClassifierCV                  0.83               0.82     0.82      0.83   \n",
       "AdaBoostClassifier                 0.82               0.82     0.82      0.82   \n",
       "NearestCentroid                    0.81               0.80     0.80      0.80   \n",
       "BernoulliNB                        0.81               0.80     0.80      0.80   \n",
       "BaggingClassifier                  0.80               0.80     0.80      0.80   \n",
       "DecisionTreeClassifier             0.80               0.80     0.80      0.80   \n",
       "LabelSpreading                     0.79               0.79     0.79      0.79   \n",
       "LabelPropagation                   0.79               0.79     0.79      0.79   \n",
       "Perceptron                         0.79               0.79     0.79      0.79   \n",
       "PassiveAggressiveClassifier        0.78               0.78     0.78      0.78   \n",
       "ExtraTreeClassifier                0.76               0.76     0.76      0.76   \n",
       "SGDClassifier                      0.73               0.73     0.73      0.73   \n",
       "QuadraticDiscriminantAnalysis      0.69               0.70     0.70      0.68   \n",
       "GaussianNB                         0.50               0.53     0.53      0.37   \n",
       "DummyClassifier                    0.48               0.50     0.50      0.31   \n",
       "\n",
       "                               Time Taken  \n",
       "Model                                      \n",
       "LinearSVC                            0.04  \n",
       "CalibratedClassifierCV               0.12  \n",
       "KNeighborsClassifier                 0.09  \n",
       "SVC                                  0.03  \n",
       "NuSVC                                0.04  \n",
       "RandomForestClassifier               0.22  \n",
       "RidgeClassifier                      0.02  \n",
       "LinearDiscriminantAnalysis           0.02  \n",
       "LGBMClassifier                       0.08  \n",
       "ExtraTreesClassifier                 0.14  \n",
       "LogisticRegression                   0.02  \n",
       "XGBClassifier                        0.08  \n",
       "RidgeClassifierCV                    0.02  \n",
       "AdaBoostClassifier                   0.10  \n",
       "NearestCentroid                      0.02  \n",
       "BernoulliNB                          0.01  \n",
       "BaggingClassifier                    0.03  \n",
       "DecisionTreeClassifier               0.02  \n",
       "LabelSpreading                       0.04  \n",
       "LabelPropagation                     0.03  \n",
       "Perceptron                           0.01  \n",
       "PassiveAggressiveClassifier          0.01  \n",
       "ExtraTreeClassifier                  0.01  \n",
       "SGDClassifier                        0.02  \n",
       "QuadraticDiscriminantAnalysis        0.01  \n",
       "GaussianNB                           0.01  \n",
       "DummyClassifier                      0.01  "
      ]
     },
     "execution_count": 115,
     "metadata": {},
     "output_type": "execute_result"
    }
   ],
   "source": [
    "#import library yang dibutuhkan\n",
    "import lazypredict\n",
    "from lazypredict.Supervised import LazyClassifier\n",
    "\n",
    "clf = LazyClassifier(verbose=0, ignore_warnings=True, custom_metric=None)\n",
    "models, predictions = clf.fit(X_train, X_test, y_train, y_test)\n",
    "models"
   ]
  },
  {
   "cell_type": "markdown",
   "id": "7948dbaf",
   "metadata": {},
   "source": [
    "Selanjutnya, data akan dilatih kembali secara manual dengan 5 jenis model yang konsisten memberikan hasil yang baik, di antaranya: **CalibratedClassifierCV**, **SVC**, **LogisticRegression**, **RandomForestClassifier**, dan **LinearSVC**."
   ]
  },
  {
   "cell_type": "code",
   "execution_count": 116,
   "id": "abf59359",
   "metadata": {},
   "outputs": [],
   "source": [
    "#import library yang dibutuhkan\n",
    "from sklearn.calibration import CalibratedClassifierCV\n",
    "from sklearn.svm import SVC, LinearSVC\n",
    "from sklearn.linear_model import LogisticRegression\n",
    "from sklearn.ensemble import RandomForestClassifier\n",
    "from sklearn.model_selection import GridSearchCV\n",
    "from sklearn.metrics import classification_report, confusion_matrix"
   ]
  },
  {
   "cell_type": "markdown",
   "id": "4c977101",
   "metadata": {},
   "source": [
    "#### **CalibratedClassifierCV**"
   ]
  },
  {
   "cell_type": "code",
   "execution_count": 117,
   "id": "1a96a50b",
   "metadata": {},
   "outputs": [
    {
     "name": "stdout",
     "output_type": "stream",
     "text": [
      "Akurasi Train dari Model CalibratedClassifier adalah:  0.8382066276803118\n",
      "Akurasi Tes dari Model CalibratedClassifier adalah:  0.832579185520362\n"
     ]
    }
   ],
   "source": [
    "CCCV = CalibratedClassifierCV()\n",
    "CCCV = CCCV.fit(X_train, y_train)\n",
    "\n",
    "#prediksi variabel y\n",
    "y_pred_CCCV = CCCV.predict(X_test)\n",
    "\n",
    "#cek akurasi train dan test model\n",
    "score_train_CCCV = CCCV.score(X_train, y_train)\n",
    "score_test_CCCV = CCCV.score(X_test, y_test)\n",
    "print('Akurasi Train dari Model CalibratedClassifier adalah: ', score_train_CCCV)\n",
    "print('Akurasi Tes dari Model CalibratedClassifier adalah: ', score_test_CCCV)"
   ]
  },
  {
   "cell_type": "markdown",
   "id": "10375a7b",
   "metadata": {},
   "source": [
    "#### **SVC**"
   ]
  },
  {
   "cell_type": "code",
   "execution_count": 118,
   "id": "ed8c4789",
   "metadata": {},
   "outputs": [
    {
     "name": "stdout",
     "output_type": "stream",
     "text": [
      "Akurasi Train dari Model CalibratedClassifier adalah:  0.8752436647173489\n",
      "Akurasi Tes dari Model CalibratedClassifier adalah:  0.8235294117647058\n"
     ]
    }
   ],
   "source": [
    "svc = SVC()\n",
    "svc = svc.fit(X_train, y_train)\n",
    "\n",
    "#prediksi variabel y\n",
    "y_pred_SVC = svc.predict(X_test)\n",
    "\n",
    "#cek akurasi train dan test model\n",
    "score_train_SVC = svc.score(X_train, y_train)\n",
    "score_test_SVC = svc.score(X_test, y_test)\n",
    "print('Akurasi Train dari Model CalibratedClassifier adalah: ', score_train_SVC)\n",
    "print('Akurasi Tes dari Model CalibratedClassifier adalah: ', score_test_SVC)"
   ]
  },
  {
   "cell_type": "code",
   "execution_count": 119,
   "id": "1d5077f4",
   "metadata": {},
   "outputs": [
    {
     "name": "stdout",
     "output_type": "stream",
     "text": [
      "{'C': 1, 'gamma': 1, 'kernel': 'rbf'}\n"
     ]
    }
   ],
   "source": [
    "#cari parameter SVC terbaik dengan GridSearchCV\n",
    "param_SVC = {'C': [1, 10, 100, 1000],\n",
    "             'gamma': [1, 0.1, 0.01, 0.001, 0.0001],\n",
    "             'kernel': ['rbf', 'sigmoid']}\n",
    "\n",
    "search = GridSearchCV(SVC(), param_SVC)\n",
    "search.fit(X_train, y_train)\n",
    "\n",
    "print(search.best_params_)"
   ]
  },
  {
   "cell_type": "code",
   "execution_count": 120,
   "id": "46a32706",
   "metadata": {},
   "outputs": [],
   "source": [
    "#latih model\n",
    "SVC_new = SVC(C=1, gamma=1, kernel='rbf')\n",
    "SVC_new = SVC_new.fit(X_train, y_train)\n",
    "\n",
    "#prediksi variabel y\n",
    "y_pred_SVC_new = SVC_new.predict(X_test)"
   ]
  },
  {
   "cell_type": "markdown",
   "id": "06e0569c",
   "metadata": {},
   "source": [
    "#### **LogisticRegression**"
   ]
  },
  {
   "cell_type": "code",
   "execution_count": 121,
   "id": "4d5371f7",
   "metadata": {},
   "outputs": [
    {
     "name": "stdout",
     "output_type": "stream",
     "text": [
      "Akurasi Train dari Model CalibratedClassifier adalah:  0.8284600389863548\n",
      "Akurasi Tes dari Model CalibratedClassifier adalah:  0.8280542986425339\n"
     ]
    }
   ],
   "source": [
    "LogReg = LogisticRegression()\n",
    "LogReg = LogReg.fit(X_train, y_train)\n",
    "\n",
    "#prediksi variabel y\n",
    "y_pred_LogReg = LogReg.predict(X_test)\n",
    "\n",
    "#cek akurasi train dan test model\n",
    "score_train_LogReg = LogReg.score(X_train, y_train)\n",
    "score_test_LogReg = LogReg.score(X_test, y_test)\n",
    "print('Akurasi Train dari Model CalibratedClassifier adalah: ', score_train_LogReg)\n",
    "print('Akurasi Tes dari Model CalibratedClassifier adalah: ', score_test_LogReg)"
   ]
  },
  {
   "cell_type": "code",
   "execution_count": 122,
   "id": "1369b0e0",
   "metadata": {},
   "outputs": [
    {
     "name": "stdout",
     "output_type": "stream",
     "text": [
      "{'C': 1000.0, 'penalty': 'l2'}\n"
     ]
    }
   ],
   "source": [
    "#cari parameter LogReg terbaik dengan GridSearchCV\n",
    "param_LogReg = {'penalty':['l1', 'l2'], 'C':np.logspace(-3,3,7)}\n",
    "\n",
    "search = GridSearchCV(LogisticRegression(), param_LogReg)\n",
    "search.fit(X_train, y_train)\n",
    "\n",
    "print(search.best_params_)"
   ]
  },
  {
   "cell_type": "code",
   "execution_count": 123,
   "id": "d8e5d57b",
   "metadata": {},
   "outputs": [],
   "source": [
    "#latih model\n",
    "LogReg_new = LogisticRegression(C=1000.0, penalty='l2')\n",
    "LogReg_new = LogReg_new.fit(X_train, y_train)\n",
    "\n",
    "#prediksi variabel y\n",
    "y_pred_LogReg_new = LogReg_new.predict(X_test)"
   ]
  },
  {
   "cell_type": "markdown",
   "id": "8b3e93e3",
   "metadata": {},
   "source": [
    "#### **RandomForestClassifier**"
   ]
  },
  {
   "cell_type": "code",
   "execution_count": 124,
   "id": "93f35953",
   "metadata": {},
   "outputs": [
    {
     "name": "stdout",
     "output_type": "stream",
     "text": [
      "Akurasi Train dari Model RandomForestClassifier adalah:  1.0\n",
      "Akurasi Tes dari Model RandomForestClassifier adalah:  0.8280542986425339\n"
     ]
    }
   ],
   "source": [
    "RFC = RandomForestClassifier()\n",
    "RFC = RFC.fit(X_train, y_train)\n",
    "\n",
    "#prediksi variabel y\n",
    "y_pred_RFC = RFC.predict(X_test)\n",
    "\n",
    "#cek akurasi train dan test model\n",
    "score_train_RFC = RFC.score(X_train, y_train)\n",
    "score_test_RFC = RFC.score(X_test, y_test)\n",
    "print('Akurasi Train dari Model RandomForestClassifier adalah: ', score_train_RFC)\n",
    "print('Akurasi Tes dari Model RandomForestClassifier adalah: ', score_test_RFC)"
   ]
  },
  {
   "cell_type": "code",
   "execution_count": 125,
   "id": "87b5f5ae",
   "metadata": {},
   "outputs": [
    {
     "name": "stdout",
     "output_type": "stream",
     "text": [
      "{'criterion': 'entropy', 'max_depth': 8, 'max_features': 'sqrt', 'n_estimators': 200}\n"
     ]
    }
   ],
   "source": [
    "#cari parameter RFC terbaik dengan GridSearchCV\n",
    "param_RFC = {'n_estimators':[200, 500],\n",
    "             'max_features': ['auto', 'sqrt', 'log2'],\n",
    "             'max_depth' : [4,5,6,7,8],\n",
    "             'criterion' :['gini', 'entropy']}\n",
    "\n",
    "search = GridSearchCV(RandomForestClassifier(), param_RFC)\n",
    "search.fit(X_train, y_train)\n",
    "\n",
    "print(search.best_params_)"
   ]
  },
  {
   "cell_type": "code",
   "execution_count": 126,
   "id": "25c5c10b",
   "metadata": {},
   "outputs": [],
   "source": [
    "#latih model\n",
    "RFC_new = RandomForestClassifier(criterion='entropy', max_depth=8,\n",
    "                                 max_features='sqrt', n_estimators=200)\n",
    "RFC_new = RFC_new.fit(X_train, y_train)\n",
    "\n",
    "#prediksi variavel y\n",
    "y_pred_RFC_new = RFC_new.predict(X_test)"
   ]
  },
  {
   "cell_type": "markdown",
   "id": "b7150d55",
   "metadata": {},
   "source": [
    "#### **LinearSVC**"
   ]
  },
  {
   "cell_type": "code",
   "execution_count": 127,
   "id": "3107afd9",
   "metadata": {},
   "outputs": [
    {
     "name": "stdout",
     "output_type": "stream",
     "text": [
      "Akurasi Train dari Model LinearSVC adalah:  0.8382066276803118\n",
      "Akurasi Tes dari Model LinearSVC adalah:  0.8461538461538461\n"
     ]
    }
   ],
   "source": [
    "LSVC = LinearSVC()\n",
    "LSVC = LSVC.fit(X_train, y_train)\n",
    "\n",
    "#prediksi variabel y\n",
    "y_pred_LSVC = LSVC.predict(X_test)\n",
    "\n",
    "#cek akurasi train dan test model\n",
    "score_train_LSVC = LSVC.score(X_train, y_train)\n",
    "score_test_LSVC = LSVC.score(X_test, y_test)\n",
    "print('Akurasi Train dari Model LinearSVC adalah: ', score_train_LSVC)\n",
    "print('Akurasi Tes dari Model LinearSVC adalah: ', score_test_LSVC)"
   ]
  },
  {
   "cell_type": "markdown",
   "id": "15179752",
   "metadata": {},
   "source": [
    "## **[Evaluation]**"
   ]
  },
  {
   "cell_type": "code",
   "execution_count": 128,
   "id": "16d13ad8",
   "metadata": {},
   "outputs": [],
   "source": [
    "#akurasi model CalibratedClassifierCV\n",
    "score_train_CCCV = CCCV.score(X_train, y_train)\n",
    "score_test_CCCV = CCCV.score(X_test, y_test)\n",
    "\n",
    "#akurasi model SVC\n",
    "score_train_SVC_new = SVC_new.score(X_train, y_train)\n",
    "score_test_SVC_new = SVC_new.score(X_test, y_test)\n",
    "\n",
    "#akurasi model LogisticRegression\n",
    "score_train_LogReg_new = LogReg_new.score(X_train, y_train)\n",
    "score_test_LogReg_new = LogReg_new.score(X_test, y_test)\n",
    "\n",
    "#akurasi model RandomForestClassifier\n",
    "score_train_RFC_new = RFC_new.score(X_train, y_train)\n",
    "score_test_RFC_new = RFC_new.score(X_test, y_test)\n",
    "\n",
    "#akurasi model LinearSVC\n",
    "score_train_LSVC = LSVC.score(X_train, y_train)\n",
    "score_test_LSVC = LSVC.score(X_test, y_test)"
   ]
  },
  {
   "cell_type": "code",
   "execution_count": 129,
   "id": "22500d26",
   "metadata": {},
   "outputs": [
    {
     "data": {
      "text/html": [
       "<div>\n",
       "<style scoped>\n",
       "    .dataframe tbody tr th:only-of-type {\n",
       "        vertical-align: middle;\n",
       "    }\n",
       "\n",
       "    .dataframe tbody tr th {\n",
       "        vertical-align: top;\n",
       "    }\n",
       "\n",
       "    .dataframe thead th {\n",
       "        text-align: right;\n",
       "    }\n",
       "</style>\n",
       "<table border=\"1\" class=\"dataframe\">\n",
       "  <thead>\n",
       "    <tr style=\"text-align: right;\">\n",
       "      <th></th>\n",
       "      <th>Akurasi Train</th>\n",
       "      <th>Akurasi Tes</th>\n",
       "    </tr>\n",
       "  </thead>\n",
       "  <tbody>\n",
       "    <tr>\n",
       "      <th>CalibratedClassifierCV</th>\n",
       "      <td>0.84</td>\n",
       "      <td>0.83</td>\n",
       "    </tr>\n",
       "    <tr>\n",
       "      <th>SVC</th>\n",
       "      <td>0.97</td>\n",
       "      <td>0.87</td>\n",
       "    </tr>\n",
       "    <tr>\n",
       "      <th>LogisticRegression</th>\n",
       "      <td>0.84</td>\n",
       "      <td>0.83</td>\n",
       "    </tr>\n",
       "    <tr>\n",
       "      <th>RandomForestClassifier</th>\n",
       "      <td>0.96</td>\n",
       "      <td>0.83</td>\n",
       "    </tr>\n",
       "    <tr>\n",
       "      <th>LinearSVC</th>\n",
       "      <td>0.84</td>\n",
       "      <td>0.85</td>\n",
       "    </tr>\n",
       "  </tbody>\n",
       "</table>\n",
       "</div>"
      ],
      "text/plain": [
       "                        Akurasi Train  Akurasi Tes\n",
       "CalibratedClassifierCV           0.84         0.83\n",
       "SVC                              0.97         0.87\n",
       "LogisticRegression               0.84         0.83\n",
       "RandomForestClassifier           0.96         0.83\n",
       "LinearSVC                        0.84         0.85"
      ]
     },
     "execution_count": 129,
     "metadata": {},
     "output_type": "execute_result"
    }
   ],
   "source": [
    "akurasi = pd.DataFrame({'Akurasi Train':[score_train_CCCV, score_train_SVC_new,\n",
    "                                         score_train_LogReg_new, score_train_RFC_new,\n",
    "                                         score_train_LSVC],\n",
    "                        'Akurasi Tes':[score_test_CCCV, score_test_SVC_new,\n",
    "                                       score_test_LogReg_new, score_test_RFC_new,\n",
    "                                       score_test_LSVC]},\n",
    "                       index = ['CalibratedClassifierCV', 'SVC',\n",
    "                                'LogisticRegression', 'RandomForestClassifier',\n",
    "                                'LinearSVC'])\n",
    "akurasi"
   ]
  },
  {
   "cell_type": "code",
   "execution_count": 130,
   "id": "a359242b",
   "metadata": {},
   "outputs": [
    {
     "name": "stdout",
     "output_type": "stream",
     "text": [
      "Confusion Matrix Model CalibratedClassifierCV:\n",
      " [[ 77  28]\n",
      " [  9 107]]\n",
      "\n",
      "Confusion Matrix Model SVC:\n",
      " [[ 84  21]\n",
      " [  8 108]]\n",
      "\n",
      "Confusion Matrix Model LogisticRegression:\n",
      " [[ 77  28]\n",
      " [  9 107]]\n",
      "\n",
      "Confusion Matrix Model RandomForestClassifier:\n",
      " [[87 18]\n",
      " [19 97]]\n",
      "\n",
      "Confusion Matrix Model LinearSVC:\n",
      " [[ 77  28]\n",
      " [  6 110]]\n"
     ]
    }
   ],
   "source": [
    "#membuat confusion matrix untuk masing-masing model\n",
    "cm_CCCV = confusion_matrix(y_test, y_pred_CCCV)\n",
    "cm_SVC = confusion_matrix(y_test, y_pred_SVC_new)\n",
    "cm_LogReg = confusion_matrix(y_test, y_pred_LogReg_new)\n",
    "cm_RFC = confusion_matrix(y_test, y_pred_RFC_new)\n",
    "cm_LSVC = confusion_matrix(y_test, y_pred_LSVC)\n",
    "\n",
    "print('Confusion Matrix Model CalibratedClassifierCV:\\n', cm_CCCV)\n",
    "print('\\nConfusion Matrix Model SVC:\\n', cm_SVC)\n",
    "print('\\nConfusion Matrix Model LogisticRegression:\\n', cm_LogReg)\n",
    "print('\\nConfusion Matrix Model RandomForestClassifier:\\n', cm_RFC)\n",
    "print('\\nConfusion Matrix Model LinearSVC:\\n', cm_LSVC)"
   ]
  },
  {
   "cell_type": "code",
   "execution_count": 131,
   "id": "50a416b1",
   "metadata": {},
   "outputs": [
    {
     "name": "stdout",
     "output_type": "stream",
     "text": [
      "Classification Report Model CalibratedClassifierCV:\n",
      "               precision    recall  f1-score   support\n",
      "\n",
      "           0       0.90      0.73      0.81       105\n",
      "           1       0.79      0.92      0.85       116\n",
      "\n",
      "    accuracy                           0.83       221\n",
      "   macro avg       0.84      0.83      0.83       221\n",
      "weighted avg       0.84      0.83      0.83       221\n",
      "\n",
      "\n",
      "Classification Report Model SVC:\n",
      "               precision    recall  f1-score   support\n",
      "\n",
      "           0       0.91      0.80      0.85       105\n",
      "           1       0.84      0.93      0.88       116\n",
      "\n",
      "    accuracy                           0.87       221\n",
      "   macro avg       0.88      0.87      0.87       221\n",
      "weighted avg       0.87      0.87      0.87       221\n",
      "\n",
      "\n",
      "Classification Report Model LogisticRegression:\n",
      "               precision    recall  f1-score   support\n",
      "\n",
      "           0       0.90      0.73      0.81       105\n",
      "           1       0.79      0.92      0.85       116\n",
      "\n",
      "    accuracy                           0.83       221\n",
      "   macro avg       0.84      0.83      0.83       221\n",
      "weighted avg       0.84      0.83      0.83       221\n",
      "\n",
      "\n",
      "Classification Report Model RandomForestClassifier:\n",
      "               precision    recall  f1-score   support\n",
      "\n",
      "           0       0.82      0.83      0.82       105\n",
      "           1       0.84      0.84      0.84       116\n",
      "\n",
      "    accuracy                           0.83       221\n",
      "   macro avg       0.83      0.83      0.83       221\n",
      "weighted avg       0.83      0.83      0.83       221\n",
      "\n",
      "\n",
      "Classification Report Model LinearSVC:\n",
      "               precision    recall  f1-score   support\n",
      "\n",
      "           0       0.93      0.73      0.82       105\n",
      "           1       0.80      0.95      0.87       116\n",
      "\n",
      "    accuracy                           0.85       221\n",
      "   macro avg       0.86      0.84      0.84       221\n",
      "weighted avg       0.86      0.85      0.84       221\n",
      "\n"
     ]
    }
   ],
   "source": [
    "#membuat classification report untuk masing-masing model\n",
    "cr_CCCV = classification_report(y_test, y_pred_CCCV)\n",
    "cr_SVC = classification_report(y_test, y_pred_SVC_new)\n",
    "cr_LogReg = classification_report(y_test, y_pred_LogReg_new)\n",
    "cr_RFC = classification_report(y_test, y_pred_RFC_new)\n",
    "cr_LSVC = classification_report(y_test, y_pred_LSVC)\n",
    "\n",
    "print('Classification Report Model CalibratedClassifierCV:\\n', cr_CCCV)\n",
    "print('\\nClassification Report Model SVC:\\n', cr_SVC)\n",
    "print('\\nClassification Report Model LogisticRegression:\\n', cr_LogReg)\n",
    "print('\\nClassification Report Model RandomForestClassifier:\\n', cr_RFC)\n",
    "print('\\nClassification Report Model LinearSVC:\\n', cr_LSVC)"
   ]
  }
 ],
 "metadata": {
  "kernelspec": {
   "display_name": "Python 3 (ipykernel)",
   "language": "python",
   "name": "python3"
  },
  "language_info": {
   "codemirror_mode": {
    "name": "ipython",
    "version": 3
   },
   "file_extension": ".py",
   "mimetype": "text/x-python",
   "name": "python",
   "nbconvert_exporter": "python",
   "pygments_lexer": "ipython3",
   "version": "3.9.7"
  }
 },
 "nbformat": 4,
 "nbformat_minor": 5
}
